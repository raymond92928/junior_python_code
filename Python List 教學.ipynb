{
 "cells": [
  {
   "cell_type": "markdown",
   "id": "03d61e8f",
   "metadata": {},
   "source": [
    "# LIST"
   ]
  },
  {
   "cell_type": "markdown",
   "id": "85a70ecb",
   "metadata": {},
   "source": [
    "## List(串列)是一個Python非常重要的資料型態，它就像是一個容器，可以用來存放多個不同資料型態的資料(元素)，以逗號分隔並且用 [] 符號將所有元素括起來，它的表示方式如下："
   ]
  },
  {
   "cell_type": "code",
   "execution_count": null,
   "id": "14fe12a5",
   "metadata": {},
   "outputs": [],
   "source": [
    "number=[1,2,3,4]\n",
    "Name=[\"Mary\", \"Peter\", \"John\"]\n",
    "#串列(list)可以存放不同資燉型態的資料\n",
    "comple=[1,\"Peter\", 2,3,\"Mike\"]\n"
   ]
  },
  {
   "cell_type": "markdown",
   "id": "0238fc93",
   "metadata": {},
   "source": [
    "## 串列有幾個特性：\n",
    "- Iterable(可疊代的)：所以上一篇文章介紹的Python迴圈可以應用在串列上。\n",
    "- Modifiable(可修改的)：串列中的元素可以透過Python提供的串列方法(Method)來進行修改。\n",
    "\n",
    "本篇文章就來介紹Python串列的基本操作，包含：\n",
    "- 建立串列的方法\n",
    "- 存取串列元素的方法\n",
    "- 新增串列元素的方法\n",
    "- 修改串列元素的方法\n",
    "- 刪除串列元素的方法\n",
    "- 尋找串列元素的方法"
   ]
  },
  {
   "cell_type": "markdown",
   "id": "2eaed9f5",
   "metadata": {},
   "source": [
    "# 一、建立串列的方法"
   ]
  },
  {
   "cell_type": "markdown",
   "id": "f5c55a12",
   "metadata": {},
   "source": [
    "## 1. 直接於 [] 符號中輸入元素資料。"
   ]
  },
  {
   "cell_type": "code",
   "execution_count": null,
   "id": "d850312e",
   "metadata": {},
   "outputs": [],
   "source": [
    "number=[1,2,3,4]\n",
    "Name=[\"Mary\", \"Peter\", \"John\"]\n",
    "#串列(list)可以存放不同資燉型態的資料\n",
    "comple=[1,\"Peter\", 2,3,\"Mike\"]"
   ]
  },
  {
   "cell_type": "markdown",
   "id": "b17302a3",
   "metadata": {},
   "source": [
    "## 2. 使用Python的list()方法，傳入Iterable(可疊代的)物件來建立串列。"
   ]
  },
  {
   "cell_type": "code",
   "execution_count": null,
   "id": "5210ea52",
   "metadata": {},
   "outputs": [],
   "source": [
    "title=list(\"HelloPython\")\n",
    "print(title)\n",
    "\n",
    "numbers=list(range(10))\n",
    "print(numbers)"
   ]
  },
  {
   "cell_type": "code",
   "execution_count": null,
   "id": "1bd6994d",
   "metadata": {},
   "outputs": [],
   "source": [
    "#練習:\n",
    "#建立一個放入1至20 的串列\n",
    "\n",
    "\n",
    "\n",
    "\n",
    "\n"
   ]
  },
  {
   "cell_type": "code",
   "execution_count": null,
   "id": "ce7683fd",
   "metadata": {},
   "outputs": [],
   "source": [
    "#練習:\n",
    "#建立一個放入\"GOOD\" 的串列\n",
    "\n",
    "\n"
   ]
  },
  {
   "cell_type": "markdown",
   "id": "541056d4",
   "metadata": {},
   "source": [
    "## 3. 使用 * 符號來建立多個相同元素的串列"
   ]
  },
  {
   "cell_type": "code",
   "execution_count": null,
   "id": "8d26e87b",
   "metadata": {},
   "outputs": [],
   "source": [
    "title=[\"H\"]*3\n",
    "print(title)\n",
    "\n",
    "numbers=[1]*3\n",
    "print(numbers)"
   ]
  },
  {
   "cell_type": "code",
   "execution_count": null,
   "id": "60efef6f",
   "metadata": {},
   "outputs": [],
   "source": [
    "#練習:\n",
    "#建立多25個元素為\"L\"的串列\n",
    "\n",
    "\n",
    "\n",
    "\n",
    "\n"
   ]
  },
  {
   "cell_type": "markdown",
   "id": "4aa33372",
   "metadata": {},
   "source": [
    "# 二、存取串列元素的方法"
   ]
  },
  {
   "cell_type": "markdown",
   "id": "302732fe",
   "metadata": {},
   "source": [
    "## 1. Python存取串列元素的方式和字串的操作一樣，使用 [] 符號並傳入索引值(同樣從0開始計算)。 "
   ]
  },
  {
   "cell_type": "code",
   "execution_count": null,
   "id": "9ac87d24",
   "metadata": {},
   "outputs": [],
   "source": [
    "names=[\"Peter\",\"Harry\",\"Mike\",\"Mary\"]\n",
    "#存取串列第三個元素\n",
    "print(names[2])\n",
    "#存取串列最後一個元素\n",
    "print(names[-1])"
   ]
  },
  {
   "cell_type": "markdown",
   "id": "963d6ba5",
   "metadata": {},
   "source": [
    "## 2. 如果想取得特定範圍的串列元素，和字串一樣使用 [:] 符號並傳入索引值。"
   ]
  },
  {
   "cell_type": "code",
   "execution_count": null,
   "id": "6074dedf",
   "metadata": {},
   "outputs": [],
   "source": [
    "names=[\"Peter\",\"Harry\",\"Mike\",\"Mary\"]\n",
    "#存取第一個元素到第三個元素\n",
    "print(names[0:3])#[0:3]代表0~2, 不包含3\n",
    "#存取第一個元素到第二個元素\n",
    "print(names[0:2]) #[:2]代表0~1,不包含2\n",
    "#存取第二個元素到最後一個元素\n",
    "print(names[1:])"
   ]
  },
  {
   "cell_type": "code",
   "execution_count": null,
   "id": "ef602628",
   "metadata": {},
   "outputs": [],
   "source": [
    "#練習\n",
    "names=[\"Peter\",\"Harry\",\"Mike\",\"Mary\"]\n",
    "#存取第二個元素到第四個元素\n",
    "\n",
    "\n",
    "\n",
    "\n",
    "\n",
    "\n"
   ]
  },
  {
   "cell_type": "markdown",
   "id": "199c179f",
   "metadata": {},
   "source": [
    "## 3. Python串列還有一個特別的存取方式，就是使用 [::遞增(減)值]，範例如下："
   ]
  },
  {
   "cell_type": "code",
   "execution_count": null,
   "id": "8ed9245f",
   "metadata": {},
   "outputs": [],
   "source": [
    "numbers=list(range(10))\n",
    "print(numbers[::3])"
   ]
  },
  {
   "cell_type": "markdown",
   "id": "85a2efea",
   "metadata": {},
   "source": [
    "### 從範例中可以看到，串列的索引值從0開始，依據遞增值3，取出每隔3的索引值元素。"
   ]
  },
  {
   "cell_type": "code",
   "execution_count": null,
   "id": "1ee503f1",
   "metadata": {},
   "outputs": [],
   "source": [
    "#練習:\n",
    "#串列中,包含有0至99, 所有4的倍數.\n",
    "\n",
    "\n",
    "\n",
    "\n",
    "\n",
    "\n"
   ]
  },
  {
   "cell_type": "markdown",
   "id": "b43e3201",
   "metadata": {},
   "source": [
    "## 4. 除了使用 [] 符號存取串列元素外，也可以透過Python迴圈來讀取串列中的每一個元素，因為串列也是Iterable(可疊代的)，如下範例："
   ]
  },
  {
   "cell_type": "code",
   "execution_count": null,
   "id": "a5a1272e",
   "metadata": {},
   "outputs": [],
   "source": [
    "names=[\"Peter\",\"Harry\",\"Mike\",\"Mary\"]\n",
    "for name in names:\n",
    "    print(name)"
   ]
  },
  {
   "cell_type": "markdown",
   "id": "4e90daa9",
   "metadata": {},
   "source": [
    "# 三、新增串列元素的方法"
   ]
  },
  {
   "cell_type": "markdown",
   "id": "4d07009b",
   "metadata": {},
   "source": [
    "## 1. 使用append()方法，將元素新增至串列的最後。"
   ]
  },
  {
   "cell_type": "code",
   "execution_count": null,
   "id": "27584954",
   "metadata": {},
   "outputs": [],
   "source": [
    "names=[\"Peter\",\"Harry\",\"Mike\",\"Mary\"]\n",
    "#將元素新增至串列的最後\n",
    "names.append(\"MaryAnn\")\n",
    "print(names)\n"
   ]
  },
  {
   "cell_type": "code",
   "execution_count": null,
   "id": "b70eeaf4",
   "metadata": {},
   "outputs": [],
   "source": [
    "#練習\n",
    "names=[\"Peter\",\"Harry\",\"Mike\",\"Mary\"]\n",
    "#將元素\"TOM\"新增至串列的最後\n",
    "\n",
    "\n",
    "\n",
    "\n",
    "\n"
   ]
  },
  {
   "cell_type": "markdown",
   "id": "a97cb447",
   "metadata": {},
   "source": [
    "## 2. 使用insert()方法，將元素新增至串列的特定位置，注意Python串列的位置索引值從0開始。"
   ]
  },
  {
   "cell_type": "code",
   "execution_count": null,
   "id": "bbf1d588",
   "metadata": {},
   "outputs": [],
   "source": [
    "names=[\"Peter\",\"Harry\",\"Mike\",\"Mary\"]\n",
    "#將元素新增至串列的第二個位置\n",
    "names.insert(1,\"MaryAnn\")\n",
    "print(names)"
   ]
  },
  {
   "cell_type": "code",
   "execution_count": null,
   "id": "212797b9",
   "metadata": {},
   "outputs": [],
   "source": [
    "#練習\n",
    "names=[\"Peter\",\"Harry\",\"Mike\",\"Mary\"]\n",
    "#將元素新增至串列的第三個位置 \"PETER\"\n",
    "\n",
    "\n",
    "\n",
    "\n",
    "\n",
    "\n"
   ]
  },
  {
   "cell_type": "markdown",
   "id": "70f96ab3",
   "metadata": {},
   "source": [
    "# 四、修改串列元素的方法"
   ]
  },
  {
   "cell_type": "markdown",
   "id": "3934c3e0",
   "metadata": {},
   "source": [
    "### 首先使用 [] 符號存取想修改的索引值，接著指派新的值，範例如下"
   ]
  },
  {
   "cell_type": "code",
   "execution_count": null,
   "id": "633a8755",
   "metadata": {},
   "outputs": [],
   "source": [
    "names=[\"Peter\",\"Harry\",\"Mike\",\"Mary\"]\n",
    "names[1]=10\n",
    "print(names)"
   ]
  },
  {
   "cell_type": "code",
   "execution_count": null,
   "id": "54cf27ad",
   "metadata": {},
   "outputs": [],
   "source": [
    "#練習\n",
    "names=[\"Peter\",\"Harry\",\"Mike\",\"Mary\"]\n",
    "#把\"Mary\" 換成 20\n",
    "\n",
    "\n",
    "\n",
    "\n",
    "\n"
   ]
  },
  {
   "cell_type": "markdown",
   "id": "67e290ec",
   "metadata": {},
   "source": [
    "# 五、刪除串列元素的方法"
   ]
  },
  {
   "cell_type": "markdown",
   "id": "c2d9b1c6",
   "metadata": {},
   "source": [
    "# 1. 使用pop()方法，將串列的最後一個元素刪除。如果想刪除特定位置的元素，則傳入位置索引值。"
   ]
  },
  {
   "cell_type": "code",
   "execution_count": null,
   "id": "3f2bf49e",
   "metadata": {},
   "outputs": [],
   "source": [
    "names=[\"Peter\",\"Harry\",\"Mike\",\"Mary\"]\n",
    "#刪除串列中的最後一個元素\n",
    "names.pop()\n",
    "print(names)"
   ]
  },
  {
   "cell_type": "code",
   "execution_count": null,
   "id": "bd85234d",
   "metadata": {},
   "outputs": [],
   "source": [
    "names=[\"Peter\",\"Harry\",\"Mike\",\"Mary\"]\n",
    "#刪除串列中第二個位置的元素\n",
    "names.pop(1)\n",
    "print(names)"
   ]
  },
  {
   "cell_type": "code",
   "execution_count": null,
   "id": "05061436",
   "metadata": {},
   "outputs": [],
   "source": [
    "#練習\n",
    "names=[\"Peter\",\"Harry\",\"Mike\",\"Mary\"]\n",
    "#刪除串列中第三個位置的元素\n",
    "\n",
    "\n",
    "\n",
    "\n",
    "\n"
   ]
  },
  {
   "cell_type": "markdown",
   "id": "2a391300",
   "metadata": {},
   "source": [
    "## 2. 刪除特定範圍的元素，可以使用del 指令，指定要刪除的範圍位置索引值。"
   ]
  },
  {
   "cell_type": "code",
   "execution_count": null,
   "id": "67f67f86",
   "metadata": {},
   "outputs": [],
   "source": [
    "names=[\"Peter\",\"Harry\",\"Mike\",\"Mary\"]\n",
    "#刪除串列中第一個位置到第三個位置的元素\n",
    "del names[0:3] #[0:3]代表0~2, 不包含3\n",
    "print(names)"
   ]
  },
  {
   "cell_type": "code",
   "execution_count": null,
   "id": "8ea5dbb2",
   "metadata": {},
   "outputs": [],
   "source": [
    "#練習\n",
    "names=[\"Peter\",\"Harry\",\"Mike\",\"Mary\"]\n",
    "#刪除串列中第二個位置到最後的元素\n",
    "\n",
    "\n",
    "\n",
    "\n",
    "\n"
   ]
  },
  {
   "cell_type": "markdown",
   "id": "a16d96eb",
   "metadata": {},
   "source": [
    "## 3. 當不知道元素的位置索引值，可以使用Remove()方法，傳入想刪除的元素。注意如果此元素在串列中有多個，Remove()方法只會刪除第一個出現的。"
   ]
  },
  {
   "cell_type": "code",
   "execution_count": null,
   "id": "24f6ab16",
   "metadata": {},
   "outputs": [],
   "source": [
    "names=[\"Peter\",\"Harry\",\"Mike\",\"Mary\"]\n",
    "#刪除串列中的Harry元素\n",
    "names.remove(\"Harry\")\n",
    "print(names)"
   ]
  },
  {
   "cell_type": "code",
   "execution_count": null,
   "id": "64903772",
   "metadata": {},
   "outputs": [],
   "source": [
    "#練習\n",
    "names=[\"Peter\",\"Harry\",\"Mike\",\"Mary\"]\n",
    "#刪除串列中的Mary元素\n",
    "\n",
    "\n",
    "\n",
    "\n",
    "\n"
   ]
  },
  {
   "cell_type": "markdown",
   "id": "6b0f93c7",
   "metadata": {},
   "source": [
    "## 4. 清空串列可以使用clear()方法。"
   ]
  },
  {
   "cell_type": "code",
   "execution_count": null,
   "id": "1fd3e8ff",
   "metadata": {},
   "outputs": [],
   "source": [
    "names=[\"Peter\",\"Harry\",\"Mike\",\"Mary\"]\n",
    "#刪除串列中的Harry元素\n",
    "names.clear()\n",
    "print(names)"
   ]
  },
  {
   "cell_type": "markdown",
   "id": "197af8ee",
   "metadata": {},
   "source": [
    "# 六、尋找串列元素的方法"
   ]
  },
  {
   "cell_type": "markdown",
   "id": "bb5fb076",
   "metadata": {},
   "source": [
    "## 1. 使用index()方法，可以將要尋找的串列元素傳入，它會回傳該元素的位置索引值，如下範例："
   ]
  },
  {
   "cell_type": "code",
   "execution_count": null,
   "id": "0e6fd674",
   "metadata": {},
   "outputs": [],
   "source": [
    "names=[\"Peter\",\"Harry\",\"Mike\",\"Mary\"]\n",
    "print(names.index(\"Mike\"))"
   ]
  },
  {
   "cell_type": "markdown",
   "id": "b315816a",
   "metadata": {},
   "source": [
    "### 如果要尋找的串列元素不在串列中，則會出現錯誤訊息，如下範例："
   ]
  },
  {
   "cell_type": "code",
   "execution_count": null,
   "id": "88cb4ac0",
   "metadata": {},
   "outputs": [],
   "source": [
    "names=[\"Peter\",\"Harry\",\"Mike\",\"Mary\"]\n",
    "print(names.index(\"Jack\"))"
   ]
  },
  {
   "cell_type": "markdown",
   "id": "4b05a912",
   "metadata": {},
   "source": [
    "### 所以比較好的寫法是在取得元素的索引值前，先判斷該元素是否在串列中，如下範例："
   ]
  },
  {
   "cell_type": "code",
   "execution_count": null,
   "id": "74e97b5b",
   "metadata": {},
   "outputs": [],
   "source": [
    "names=[\"Peter\",\"Harry\",\"Mike\",\"Mary\"]\n",
    "if \"Jack\" in names:\n",
    "    print(names.index(\"Jack\"))\n",
    "else:\n",
    "    print(\"Jack not in list\")\n"
   ]
  },
  {
   "cell_type": "markdown",
   "id": "f86cf5c8",
   "metadata": {},
   "source": [
    "## 2. 使用count()方法，可以將要尋找的串列元素傳入，它會回傳該元素在串列中的個數。"
   ]
  },
  {
   "cell_type": "code",
   "execution_count": null,
   "id": "e1a0b7dd",
   "metadata": {},
   "outputs": [],
   "source": [
    "names=[\"Peter\",\"Harry\",\"Mike\",\"Mary\"]\n",
    "print(names.count(\"Harry\"))"
   ]
  },
  {
   "cell_type": "code",
   "execution_count": null,
   "id": "110a67f8",
   "metadata": {},
   "outputs": [],
   "source": [
    "#練習\n",
    "names=[\"Peter\",\"Harry\",\"Mike\",\"Mary\"]\n",
    "#找\"Mike\"的 index\n",
    "\n",
    "\n"
   ]
  }
 ],
 "metadata": {
  "kernelspec": {
   "display_name": "Python 3 (ipykernel)",
   "language": "python",
   "name": "python3"
  },
  "language_info": {
   "codemirror_mode": {
    "name": "ipython",
    "version": 3
   },
   "file_extension": ".py",
   "mimetype": "text/x-python",
   "name": "python",
   "nbconvert_exporter": "python",
   "pygments_lexer": "ipython3",
   "version": "3.11.4"
  }
 },
 "nbformat": 4,
 "nbformat_minor": 5
}
