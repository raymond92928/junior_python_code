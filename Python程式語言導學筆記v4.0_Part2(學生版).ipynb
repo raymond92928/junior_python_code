{
 "cells": [
  {
   "cell_type": "markdown",
   "metadata": {},
   "source": [
    "# Python程式語言導學筆記v4.0_Part2"
   ]
  },
  {
   "cell_type": "markdown",
   "metadata": {},
   "source": [
    "## 知識點：條件句 If 結構"
   ]
  },
  {
   "cell_type": "code",
   "execution_count": 14,
   "metadata": {},
   "outputs": [
    {
     "name": "stdout",
     "output_type": "stream",
     "text": [
      "你的年齡：18\n"
     ]
    }
   ],
   "source": [
    "# IF 成年判定 初級版\n",
    "age = int(input(\"你的年齡：\"))\n",
    "if age < 18:\n",
    "    print(\"未成年\")"
   ]
  },
  {
   "cell_type": "code",
   "execution_count": 23,
   "metadata": {},
   "outputs": [
    {
     "name": "stdout",
     "output_type": "stream",
     "text": [
      "你的年齡：18\n",
      "成年\n"
     ]
    }
   ],
   "source": [
    "# IF 成年判定 中級版\n",
    "age = int(input(\"你的年齡：\"))\n",
    "if age < 18:\n",
    "    print(\"未成年\")\n",
    "else:\n",
    "    print(\"成年\")"
   ]
  },
  {
   "cell_type": "code",
   "execution_count": 15,
   "metadata": {},
   "outputs": [
    {
     "name": "stdout",
     "output_type": "stream",
     "text": [
      "你的年齡：58\n",
      "中年\n"
     ]
    }
   ],
   "source": [
    "# IF 成年判定 高級版\n",
    "age = int(input(\"你的年齡：\"))\n",
    "if age < 18:\n",
    "    print(\"未成年\")\n",
    "elif age >= 100:\n",
    "    print(\"你身體真係好好呀\")\n",
    "elif age >= 60:\n",
    "    print(\"老年\")\n",
    "elif age >= 40:\n",
    "    print(\"中年\")\n",
    "else:\n",
    "    print(\"少年\")"
   ]
  },
  {
   "cell_type": "code",
   "execution_count": 46,
   "metadata": {},
   "outputs": [
    {
     "name": "stdout",
     "output_type": "stream",
     "text": [
      "a = 6\n",
      "b = 5\n",
      "最大值是 a\n"
     ]
    }
   ],
   "source": [
    "# 例題：誰是最大值\n",
    "\n",
    "a = int(input('a = '))\n",
    "b = int(input('b = '))\n",
    "\n",
    "if a > b:\n",
    "    print('最大值是 a')\n",
    "else:\n",
    "    print('最大值是 b')"
   ]
  },
  {
   "cell_type": "markdown",
   "metadata": {},
   "source": [
    "## 練習：OJ a067 比大小程式\n",
    "#### 輸入：一行輸入兩個整數a和b (數值之間用一個空格分隔)\n",
    "#### 輸出：a和b的大小關係(例如 a 大於 b 或 a 等於 b 或 a 小於 b)\n",
    "#### http://zero1.puiching.edu.mo/ShowProblem?problemid=a067"
   ]
  },
  {
   "cell_type": "code",
   "execution_count": null,
   "metadata": {},
   "outputs": [],
   "source": [
    "# start programming\n",
    "\n",
    "\n",
    "\n",
    "\n",
    "\n",
    "# end programming"
   ]
  },
  {
   "cell_type": "markdown",
   "metadata": {},
   "source": [
    "## 例題：今天是星期幾\n",
    "#### 輸入：一個 1~7 的整數數值\n",
    "#### 輸出：星期一/二/三/四/五/六/天，否則「輸入錯誤」"
   ]
  },
  {
   "cell_type": "code",
   "execution_count": 51,
   "metadata": {},
   "outputs": [
    {
     "name": "stdout",
     "output_type": "stream",
     "text": [
      "請輸入一個 1~7 的整數數值8\n",
      "輸入錯誤\n"
     ]
    }
   ],
   "source": [
    "# 例子一範例"
   ]
  },
  {
   "cell_type": "code",
   "execution_count": 52,
   "metadata": {},
   "outputs": [
    {
     "name": "stdout",
     "output_type": "stream",
     "text": [
      "請輸入一個 1~7 的整數數值7\n",
      "星期日\n"
     ]
    }
   ],
   "source": [
    "# 例子二範例"
   ]
  },
  {
   "cell_type": "code",
   "execution_count": null,
   "metadata": {},
   "outputs": [],
   "source": [
    "# start programming\n",
    "\n",
    "\n",
    "\n",
    "\n",
    "\n",
    "# end programming"
   ]
  },
  {
   "cell_type": "code",
   "execution_count": null,
   "metadata": {},
   "outputs": [],
   "source": []
  },
  {
   "cell_type": "code",
   "execution_count": null,
   "metadata": {},
   "outputs": [],
   "source": []
  },
  {
   "cell_type": "code",
   "execution_count": null,
   "metadata": {},
   "outputs": [],
   "source": []
  },
  {
   "cell_type": "code",
   "execution_count": 8,
   "metadata": {},
   "outputs": [
    {
     "name": "stdout",
     "output_type": "stream",
     "text": [
      "請輸入一個 1~7 的整數數值：8\n",
      "輸入錯誤\n"
     ]
    }
   ],
   "source": [
    "# 參考答案\n",
    "\n",
    "number = int(input('請輸入一個 1~7 的整數數值：'))\n",
    "\n",
    "if number == 1:\n",
    "    print('星期一')\n",
    "elif number == 2:\n",
    "    print('星期二')\n",
    "elif number == 3:\n",
    "    print('星期三')\n",
    "elif number == 4:\n",
    "    print('星期四')\n",
    "elif number == 5:\n",
    "    print('星期五')\n",
    "elif number == 6:\n",
    "    print('星期六')\n",
    "elif number == 7:\n",
    "    print('星期天')\n",
    "else:\n",
    "    print('輸入錯誤')"
   ]
  },
  {
   "cell_type": "markdown",
   "metadata": {},
   "source": [
    "## 練習：OJ a068 今天是星期幾\n",
    "#### 已知某月的1號剛好是星期一，請利用編程設計出求得該月的某號是星期幾的程式\n",
    "#### 輸入說明：一個整數數值，其介於 1~31\n",
    "#### 輸出說明：輸出格式：「今天是星期一/二/三/四/五/六/天」；若輸入數值不合規定，則輸出「輸入錯誤」\n",
    "#### http://zero1.puiching.edu.mo/ShowProblem?problemid=a068"
   ]
  },
  {
   "cell_type": "code",
   "execution_count": 47,
   "metadata": {},
   "outputs": [],
   "source": [
    "# start programming\n",
    "\n",
    "\n",
    "\n",
    "\n",
    "\n",
    "# end programming"
   ]
  },
  {
   "cell_type": "markdown",
   "metadata": {},
   "source": [
    "## 重溫 if 條件式\n",
    "#### 例題：正數、負數還是零？\n",
    "#### 輸入：一個數值\n",
    "#### 輸出：該數值是「正數」、「負數」或「零」"
   ]
  },
  {
   "cell_type": "code",
   "execution_count": 1,
   "metadata": {
    "scrolled": true
   },
   "outputs": [
    {
     "name": "stdin",
     "output_type": "stream",
     "text": [
      "請輸出一個數值： 10\n"
     ]
    },
    {
     "name": "stdout",
     "output_type": "stream",
     "text": [
      "正數\n",
      "正數\n",
      "正數\n"
     ]
    }
   ],
   "source": [
    "number = int(input('請輸出一個數值：'))\n",
    "\n",
    "# 方法一\n",
    "if number > 0:\n",
    "    print('正數')\n",
    "\n",
    "if number < 0:\n",
    "    print('負數')\n",
    "\n",
    "if number == 0:\n",
    "    print('零')\n",
    "\n",
    "\n",
    "# 方法二\n",
    "if number > 0:\n",
    "    print('正數')\n",
    "elif number < 0:\n",
    "    print('負數')\n",
    "else:\n",
    "    print('零')\n",
    "\n",
    "\n",
    "# 方法三\n",
    "if number >= 0:\n",
    "    if number == 0:\n",
    "        print('零')\n",
    "    else:\n",
    "        print('正數')\n",
    "else:\n",
    "    print('負數')\n",
    "\n",
    "# ...方法很多，不能盡錄\n"
   ]
  },
  {
   "cell_type": "markdown",
   "metadata": {},
   "source": [
    "## 例題：分數評價系統\n",
    "#### 輸入：一個 0~100 之間的數值\n",
    "#### 輸出：如果 <0 或者 >100 分，則輸出「輸入錯誤」\n",
    "####       如果 0~59 分，則輸出「請繼續努力！」\n",
    "####       如果 60~79 分，則輸出「良好！」\n",
    "####       如果 80~89 分，則輸出「非常好！」\n",
    "####       如果 90~100 分，則輸出「優秀！」"
   ]
  },
  {
   "cell_type": "code",
   "execution_count": 4,
   "metadata": {},
   "outputs": [],
   "source": [
    "# start programming\n",
    "\n",
    "\n",
    "\n",
    "\n",
    "\n",
    "# end programming"
   ]
  },
  {
   "cell_type": "code",
   "execution_count": null,
   "metadata": {},
   "outputs": [],
   "source": []
  },
  {
   "cell_type": "code",
   "execution_count": null,
   "metadata": {},
   "outputs": [],
   "source": []
  },
  {
   "cell_type": "code",
   "execution_count": null,
   "metadata": {},
   "outputs": [],
   "source": []
  },
  {
   "cell_type": "code",
   "execution_count": 1,
   "metadata": {},
   "outputs": [
    {
     "name": "stdout",
     "output_type": "stream",
     "text": [
      "0\n",
      "請繼續努力！\n"
     ]
    }
   ],
   "source": [
    "# 參考答案\n",
    "\n",
    "number = int(input())\n",
    "\n",
    "if number < 0 or number > 100:\n",
    "    print('輸入錯誤')\n",
    "elif 0 <= number <= 59 :\n",
    "    print('請繼續努力！')\n",
    "elif 60 <= number <= 79 :\n",
    "    print('良好！')\n",
    "elif 80 <= number <= 89:\n",
    "    print('非常好！')\n",
    "else:\n",
    "    print('優秀！')"
   ]
  },
  {
   "cell_type": "markdown",
   "metadata": {},
   "source": [
    "## 知識點：從「順序結構」到「循環結構」"
   ]
  },
  {
   "cell_type": "code",
   "execution_count": 4,
   "metadata": {},
   "outputs": [
    {
     "name": "stdout",
     "output_type": "stream",
     "text": [
      "1\n",
      "2\n",
      "3\n",
      "4\n",
      "5\n",
      "6\n",
      "7\n",
      "8\n",
      "36.0\n",
      "36.0\n"
     ]
    }
   ],
   "source": [
    "# 順序結構\n",
    "# 例題：輸入八個數值並將其加總\n",
    "\n",
    "num1 = float(input())\n",
    "num2 = float(input())\n",
    "num3 = float(input())\n",
    "num4 = float(input())\n",
    "num5 = float(input())\n",
    "num6 = float(input())\n",
    "num7 = float(input())\n",
    "num8 = float(input())\n",
    "\n",
    "L = [num1,num2,num3,num4,num5,num6,num7,num8]\n",
    "\n",
    "Answer1 = num1 + num2 + num3 + num4 + num5 + num6 + num7 + num8\n",
    "Answer2 = sum(L)\n",
    "\n",
    "print(Answer1)\n",
    "print(Answer2)"
   ]
  },
  {
   "cell_type": "markdown",
   "metadata": {},
   "source": [
    "## 留意上述例題中重複的地方"
   ]
  },
  {
   "cell_type": "code",
   "execution_count": 5,
   "metadata": {},
   "outputs": [
    {
     "name": "stdout",
     "output_type": "stream",
     "text": [
      "1\n",
      "2\n",
      "3\n",
      "4\n",
      "5\n",
      "6\n",
      "7\n",
      "8\n",
      "36.0\n"
     ]
    }
   ],
   "source": [
    "# 學會循環結構！ 　for-loop語句\n",
    "\n",
    "answer = 0\n",
    "# 或者 for i in range(1,9):\n",
    "for i in range(8):\n",
    "    num = float(input())\n",
    "    answer += num\n",
    "    # 意思是 answer = answer + num\n",
    "\n",
    "print(answer)"
   ]
  },
  {
   "cell_type": "markdown",
   "metadata": {},
   "source": [
    "## 例題：計算 1+2+3+...+9999 的和"
   ]
  },
  {
   "cell_type": "code",
   "execution_count": 13,
   "metadata": {},
   "outputs": [
    {
     "name": "stdout",
     "output_type": "stream",
     "text": [
      "參考：\n",
      "1+2+3+...+9999 = 49995000\n"
     ]
    }
   ],
   "source": [
    "# 參考答案"
   ]
  },
  {
   "cell_type": "code",
   "execution_count": 57,
   "metadata": {},
   "outputs": [],
   "source": [
    "# start programming\n",
    "\n",
    "\n",
    "\n",
    "\n",
    "\n",
    "# end programming"
   ]
  },
  {
   "cell_type": "code",
   "execution_count": null,
   "metadata": {},
   "outputs": [],
   "source": []
  },
  {
   "cell_type": "code",
   "execution_count": null,
   "metadata": {},
   "outputs": [],
   "source": []
  },
  {
   "cell_type": "code",
   "execution_count": null,
   "metadata": {},
   "outputs": [],
   "source": []
  },
  {
   "cell_type": "code",
   "execution_count": 4,
   "metadata": {},
   "outputs": [
    {
     "name": "stdout",
     "output_type": "stream",
     "text": [
      "49995000\n"
     ]
    }
   ],
   "source": [
    "# 參考答案一\n",
    "\n",
    "ans = 0\n",
    "for i in range(1,10000):\n",
    "    ans += i\n",
    "print(ans)"
   ]
  },
  {
   "cell_type": "code",
   "execution_count": 6,
   "metadata": {},
   "outputs": [
    {
     "name": "stdout",
     "output_type": "stream",
     "text": [
      "49995000.0\n"
     ]
    }
   ],
   "source": [
    "# 參考答案二\n",
    "\n",
    "ans = (1+9999)*9999/2\n",
    "print(ans)\n",
    "#print(round(ans))"
   ]
  },
  {
   "cell_type": "code",
   "execution_count": 48,
   "metadata": {},
   "outputs": [
    {
     "name": "stdout",
     "output_type": "stream",
     "text": [
      "49995000\n"
     ]
    }
   ],
   "source": [
    "# 參考答案三\n",
    "\n",
    "a = range(1,10000)\n",
    "print(sum(a))"
   ]
  },
  {
   "cell_type": "markdown",
   "metadata": {},
   "source": [
    "## 練習：OJ a069 回音\n",
    "#### 輸入一行文字。如範例輸出的規律進行回音，每輪將消去第一個字(第一行不用)，並在句子的後面加上「...」，直到沒有文字只剩「...」\n",
    "#### http://zero1.puiching.edu.mo/ShowProblem?problemid=a069"
   ]
  },
  {
   "cell_type": "code",
   "execution_count": 7,
   "metadata": {
    "scrolled": false
   },
   "outputs": [
    {
     "name": "stdout",
     "output_type": "stream",
     "text": [
      "回音總是重複著說過的話\n",
      "回音總是重複著說過的話...\n",
      "音總是重複著說過的話...\n",
      "總是重複著說過的話...\n",
      "是重複著說過的話...\n",
      "重複著說過的話...\n",
      "複著說過的話...\n",
      "著說過的話...\n",
      "說過的話...\n",
      "過的話...\n",
      "的話...\n",
      "話...\n",
      "...\n"
     ]
    }
   ],
   "source": [
    "# 範例輸出"
   ]
  },
  {
   "cell_type": "code",
   "execution_count": 49,
   "metadata": {},
   "outputs": [],
   "source": [
    "# start programming\n",
    "\n",
    "\n",
    "\n",
    "\n",
    "\n",
    "# end programming"
   ]
  },
  {
   "cell_type": "markdown",
   "metadata": {},
   "source": [
    "## 學會循環結構！  while-loop語句"
   ]
  },
  {
   "cell_type": "code",
   "execution_count": 54,
   "metadata": {},
   "outputs": [
    {
     "name": "stdout",
     "output_type": "stream",
     "text": [
      "1\n",
      "2\n",
      "3\n",
      "4\n",
      "5\n",
      "6\n",
      "7\n",
      "8\n"
     ]
    }
   ],
   "source": [
    "i = 1\n",
    "while i <= 8:\n",
    "    print(i)\n",
    "    i += 1"
   ]
  },
  {
   "cell_type": "code",
   "execution_count": 55,
   "metadata": {},
   "outputs": [
    {
     "name": "stdout",
     "output_type": "stream",
     "text": [
      "1\n",
      "2\n",
      "3\n",
      "4\n",
      "5\n",
      "6\n",
      "7\n",
      "8\n"
     ]
    }
   ],
   "source": [
    "i = 1\n",
    "while True:\n",
    "    if i <= 8:\n",
    "        print(i)\n",
    "        i += 1\n",
    "    else:\n",
    "        break"
   ]
  },
  {
   "cell_type": "markdown",
   "metadata": {},
   "source": [
    "## 例題：利用循環結構，輸出一句具有重複字句的句子。"
   ]
  },
  {
   "cell_type": "code",
   "execution_count": null,
   "metadata": {},
   "outputs": [],
   "source": [
    "# 提示：\n",
    "# 補充print()知識： print('xxxxxxxx',end=\"\")   end函數預設為\\n，即換行"
   ]
  },
  {
   "cell_type": "code",
   "execution_count": 4,
   "metadata": {},
   "outputs": [
    {
     "name": "stdout",
     "output_type": "stream",
     "text": [
      "新年\n",
      "快樂\n"
     ]
    }
   ],
   "source": [
    "print('新年')\n",
    "print('快樂')"
   ]
  },
  {
   "cell_type": "code",
   "execution_count": 5,
   "metadata": {},
   "outputs": [
    {
     "name": "stdout",
     "output_type": "stream",
     "text": [
      "新年快樂\n"
     ]
    }
   ],
   "source": [
    "print('新年',end=\"\")\n",
    "print('快樂')"
   ]
  },
  {
   "cell_type": "code",
   "execution_count": 56,
   "metadata": {},
   "outputs": [
    {
     "name": "stdout",
     "output_type": "stream",
     "text": [
      "你是一名好好好好好好好好好好好好好好好好好好好好好好好好好好好好好好人\n"
     ]
    }
   ],
   "source": [
    "# 例子一：\n",
    "\n",
    "print('你是一名',end='')\n",
    "\n",
    "for i in range(30):\n",
    "    print('好',end='')\n",
    "\n",
    "print('人')"
   ]
  },
  {
   "cell_type": "code",
   "execution_count": 4,
   "metadata": {},
   "outputs": [
    {
     "name": "stdout",
     "output_type": "stream",
     "text": [
      "從前有座山，山上有座廟，廟上有個和尚，和尚說：從前有座山，山上有座廟，廟上有個和尚，和尚說：從前有座山，山上有座廟，廟上有個和尚，和尚說：從前有座山，山上有座廟，廟上有個和尚，和尚說：從前有座山，山上有座廟，廟上有個和尚，和尚說：從前有座山，山上有座廟，廟上有個和尚，和尚說：從前有座山，山上有座廟，廟上有個和尚，和尚說：從前有座山，山上有座廟，廟上有個和尚，和尚說：從前有座山，山上有座廟，廟上有個和尚，和尚說：從前有座山，山上有座廟，廟上有個和尚，和尚說：從前有座山，山上有座廟，廟上有個和尚，和尚說：從前有座山，山上有座廟，廟上有個和尚，和尚說：從前有座山，山上有座廟，廟上有個和尚，和尚說：從前有座山，山上有座廟，廟上有個和尚，和尚說：從前有座山，山上有座廟，廟上有個和尚，和尚說：從前有座山，山上有座廟，廟上有個和尚...\n"
     ]
    }
   ],
   "source": [
    "# 例子二：\n",
    "\n",
    "for i in range(15):\n",
    "    print('從前有座山，山上有座廟，廟上有個和尚，和尚說：',end='')\n",
    "\n",
    "print('從前有座山，山上有座廟，廟上有個和尚...')"
   ]
  },
  {
   "cell_type": "code",
   "execution_count": 7,
   "metadata": {},
   "outputs": [
    {
     "name": "stdout",
     "output_type": "stream",
     "text": [
      "只有你肯努力，你一定能成為高手中的高手中的高手中的高手中的高手中的高手"
     ]
    }
   ],
   "source": [
    "# 例子三：\n",
    "\n",
    "print('只有你肯努力，你一定能成為',end=\"\")\n",
    "\n",
    "for i in range(5):\n",
    "    print('高手中的',end=\"\")\n",
    "\n",
    "print('高手',end=\"\")"
   ]
  },
  {
   "cell_type": "markdown",
   "metadata": {},
   "source": [
    "## 使用 while 時要避免 無限循環 / 死循環"
   ]
  },
  {
   "cell_type": "code",
   "execution_count": null,
   "metadata": {},
   "outputs": [],
   "source": [
    "# 無盡的循環會導致程式不斷運行，導致最終當機\n",
    "# 死循環例子：\n",
    "\n",
    "i = 1\n",
    "while i != 5:\n",
    "    print('hi')"
   ]
  },
  {
   "cell_type": "code",
   "execution_count": 5,
   "metadata": {},
   "outputs": [
    {
     "name": "stdout",
     "output_type": "stream",
     "text": [
      "hi\n",
      "hi\n",
      "hi\n",
      "hi\n"
     ]
    }
   ],
   "source": [
    "# 必須避免無限循環，設置「跳出迴圈」的條件\n",
    "\n",
    "i = 1\n",
    "while i != 5:      #「跳出迴圈」的條件為\n",
    "    print('hi')\n",
    "    i += 1"
   ]
  },
  {
   "cell_type": "markdown",
   "metadata": {},
   "source": [
    "## 知識點：生成隨機數"
   ]
  },
  {
   "cell_type": "code",
   "execution_count": 13,
   "metadata": {},
   "outputs": [
    {
     "name": "stdout",
     "output_type": "stream",
     "text": [
      "0.5651523830740183\n",
      "2\n",
      "46\n",
      "558\n",
      "9.775206797219038\n",
      "26.318516114741712\n",
      "77.16054379222138\n",
      "u\n",
      "石頭\n"
     ]
    }
   ],
   "source": [
    "# 在Python生成隨機數需要載入 random 模塊(module)\n",
    "import random\n",
    "\n",
    "# 隨機生成一個實數，它在 [0,1) 範圍內\n",
    "random_number_0 = random.random()\n",
    "print(random_number_0)\n",
    "\n",
    "# 隨機生成 1~10 之間的整數\n",
    "random_number_1 = random.randrange(1,11)\n",
    "print(random_number_1)\n",
    "\n",
    "# 隨機生成 10~60 之間的整數\n",
    "random_number_2 = random.randrange(10,61)\n",
    "print(random_number_2)\n",
    "\n",
    "# 隨機生成 1~1000 之間的整數\n",
    "random_number_3 = random.randrange(1,1001)\n",
    "print(random_number_3)\n",
    "\n",
    "# 隨機生成 1~10 之間的實數\n",
    "random_number_4 = random.uniform(1,11)\n",
    "print(random_number_4)\n",
    "\n",
    "# 隨機生成 10~60 之間的實數\n",
    "random_number_5 = random.uniform(10,61)\n",
    "print(random_number_5)\n",
    "\n",
    "# 隨機生成 1~1000 之間的實數\n",
    "random_number_6 = random.uniform(1,1001)\n",
    "print(random_number_6)\n",
    "\n",
    "# 隨機字符\n",
    "random_str_1 = random.choice('abcdefghijklmnopqrstuvwxyz!@#$%^&*()')\n",
    "print(random_str_1)\n",
    "\n",
    "# 隨機選取字符串\n",
    "random_str_2 = random.choice(['剪刀', '石頭', '布'])\n",
    "print(random_str_2)"
   ]
  },
  {
   "cell_type": "markdown",
   "metadata": {},
   "source": [
    "## 例題：剪刀石頭布小遊戲\n",
    "#### 輸入：0/1/2，代表 剪刀/石頭/布\n",
    "#### 輸出：\n",
    "#### (1) print出使用者的選擇 和 程式的隨機選擇\n",
    "#### (2) 如果使用者輸，則輸出「輸了！再來一次」，然後重新輸入／\n",
    "####     如果平手，則輸出「平手！再來一次」，然後重新輸入／\n",
    "####     如果使用者勝，則輸出「勝利！你共猜了xx次！」"
   ]
  },
  {
   "cell_type": "code",
   "execution_count": null,
   "metadata": {},
   "outputs": [],
   "source": [
    "# start programming\n",
    "\n",
    "\n",
    "\n",
    "\n",
    "\n",
    "# end programming"
   ]
  },
  {
   "cell_type": "code",
   "execution_count": null,
   "metadata": {},
   "outputs": [],
   "source": []
  },
  {
   "cell_type": "code",
   "execution_count": null,
   "metadata": {},
   "outputs": [],
   "source": []
  },
  {
   "cell_type": "code",
   "execution_count": null,
   "metadata": {},
   "outputs": [],
   "source": []
  },
  {
   "cell_type": "code",
   "execution_count": 4,
   "metadata": {},
   "outputs": [
    {
     "name": "stdout",
     "output_type": "stream",
     "text": [
      "剪刀=0，石頭=1，布=2：0\n",
      "你的選擇是： 剪刀\n",
      "電腦的選擇是： 剪刀\n",
      "平手！再來一次\n",
      "\n",
      "剪刀=0，石頭=1，布=2：0\n",
      "你的選擇是： 剪刀\n",
      "電腦的選擇是： 布\n",
      "勝利！你共猜了 2 次！\n"
     ]
    }
   ],
   "source": [
    "import random\n",
    "\n",
    "times = 1     # 起始次數\n",
    "key = 0       # 跳出無限循環的鎖匙\n",
    "\n",
    "while key == 0:\n",
    "    user = input('剪刀=0，石頭=1，布=2：')                # 將使用者的「0/1/2」轉換為「剪刀/石頭/布」\n",
    "    if user == '0':\n",
    "        user_chinese = '剪刀'\n",
    "    elif user == '1':\n",
    "        user_chinese = '石頭'\n",
    "    else: user_chinese = '布'\n",
    "    print('你的選擇是：', user_chinese)\n",
    "    \n",
    "    computer = random.choice(['剪刀', '石頭', '布'])     # 電腦隨機出一個「剪刀/石頭/布」\n",
    "    print('電腦的選擇是：', computer)\n",
    "    \n",
    "    if user_chinese == '剪刀' and computer == '剪刀':    # 如果使用者為「剪刀」的三種情況\n",
    "        print('平手！再來一次\\n')\n",
    "        times += 1\n",
    "    elif user_chinese == '剪刀' and computer == '石頭':\n",
    "        print('輸了！再來一次\\n')\n",
    "        times += 1\n",
    "    elif user_chinese == '剪刀' and computer == '布':\n",
    "        print('勝利！你共猜了' , str(times) , '次！')\n",
    "        key = 1\n",
    "    \n",
    "    if user_chinese == '石頭' and computer == '剪刀':    # 如果使用者為「石頭」的三種情況\n",
    "        print('勝利！你共猜了' , str(times) , '次！')\n",
    "        key = 1\n",
    "    elif user_chinese == '石頭' and computer == '石頭':\n",
    "        print('平手！再來一次\\n')\n",
    "        times += 1\n",
    "    elif user_chinese == '石頭' and computer == '布':\n",
    "        print('輸了！再來一次\\n')\n",
    "        times += 1\n",
    "        \n",
    "    if user_chinese == '布' and computer == '剪刀':    # 如果使用者為「布」的三種情況\n",
    "        print('輸了！再來一次\\n')\n",
    "        times += 1\n",
    "    elif user_chinese == '布' and computer == '石頭':\n",
    "        print('勝利！你共猜了' , str(times) , '次！')\n",
    "        key = 1\n",
    "    elif user_chinese == '布' and computer == '布':\n",
    "        print('平手！再來一次\\n')\n",
    "        times += 1"
   ]
  },
  {
   "cell_type": "markdown",
   "metadata": {},
   "source": [
    "## 綜合練習：OJ a075 全是正數\n",
    "#### 編寫一個Python程序，提示用戶輸入3個數值，如果其中有負數，則顯示「以上不全是正數」，否則顯示「以上全是正數」\n",
    "#### http://zero1.puiching.edu.mo/ShowProblem?problemid=a075"
   ]
  },
  {
   "cell_type": "code",
   "execution_count": 13,
   "metadata": {},
   "outputs": [],
   "source": [
    "# start programming\n",
    "\n",
    "\n",
    "\n",
    "\n",
    "\n",
    "# end programming"
   ]
  },
  {
   "cell_type": "markdown",
   "metadata": {},
   "source": [
    "## 綜合練習：OJ a076 四的倍數\n",
    "#### 編寫一個Python程序，提示用戶輸入1個整數數值，然後顯示說明輸入的數字是否為 4 的倍數。\n",
    "#### http://zero1.puiching.edu.mo/ShowProblem?problemid=a076"
   ]
  },
  {
   "cell_type": "code",
   "execution_count": 21,
   "metadata": {},
   "outputs": [],
   "source": [
    "# start programming\n",
    "\n",
    "\n",
    "\n",
    "\n",
    "\n",
    "# end programming"
   ]
  },
  {
   "cell_type": "markdown",
   "metadata": {},
   "source": [
    "## 綜合練習：OJ a077 兩位數\n",
    "#### 編寫一個Python程序，提示用戶輸入1個數值，然後顯示說明輸入的數字是否為兩位數。\n",
    "#### 提示：兩位數為 10~99 之間的整數。\n",
    "#### http://zero1.puiching.edu.mo/ShowProblem?problemid=a077"
   ]
  },
  {
   "cell_type": "code",
   "execution_count": 22,
   "metadata": {},
   "outputs": [],
   "source": [
    "# start programming\n",
    "\n",
    "\n",
    "\n",
    "\n",
    "\n",
    "# end programming"
   ]
  },
  {
   "cell_type": "markdown",
   "metadata": {},
   "source": [
    "## 綜合練習：OJ a078 相應的數字\n",
    "#### 編寫一個Python程序，提示用戶輸入\"one\" \"two\" \"three\" \"four\" \"five\"中任一單詞，然後顯示其相應的數字。\n",
    "#### 當用戶輸入未知文字時，顯示\"I don't know this number!\"\n",
    "#### http://zero1.puiching.edu.mo/ShowProblem?problemid=a078"
   ]
  },
  {
   "cell_type": "code",
   "execution_count": 26,
   "metadata": {},
   "outputs": [],
   "source": [
    "# start programming\n",
    "\n",
    "\n",
    "\n",
    "\n",
    "\n",
    "# end programming"
   ]
  },
  {
   "cell_type": "markdown",
   "metadata": {},
   "source": [
    "## 綜合練習：OJ a079 正數的乘積\n",
    "#### 編寫一個Python程序，提示用戶輸入 6 個數字，然後計算並顯示用戶輸入的所有正數的乘積(精確至小數點後兩位)。\n",
    "#### http://zero1.puiching.edu.mo/ShowProblem?problemid=a079"
   ]
  },
  {
   "cell_type": "code",
   "execution_count": 29,
   "metadata": {},
   "outputs": [],
   "source": [
    "# start programming\n",
    "\n",
    "\n",
    "\n",
    "\n",
    "\n",
    "# end programming"
   ]
  },
  {
   "cell_type": "markdown",
   "metadata": {},
   "source": [
    "## 綜合練習：OJ a080 a與b之間全部整數\n",
    "#### 編寫一個Python程序，提示用戶輸入a,b 兩個整數(且a<b)，然後顯示a與b之間全部整數(a,a+1,...,b-1,b)，數字之間為一個空隔，不必隔行。\n",
    "#### http://zero1.puiching.edu.mo/ShowProblem?problemid=a080"
   ]
  },
  {
   "cell_type": "code",
   "execution_count": 42,
   "metadata": {},
   "outputs": [],
   "source": [
    "# start programming\n",
    "\n",
    "\n",
    "\n",
    "\n",
    "\n",
    "# end programming"
   ]
  },
  {
   "cell_type": "markdown",
   "metadata": {},
   "source": [
    "## 綜合練習：OJ a081 N個1\n",
    "#### 編寫一個Python程序，輸入正整數n，然後顯示以下整數序列：1,11,111,...,11111111111111111111 (n個1)\n",
    "#### http://zero1.puiching.edu.mo/ShowProblem?problemid=a081"
   ]
  },
  {
   "cell_type": "code",
   "execution_count": null,
   "metadata": {},
   "outputs": [],
   "source": [
    "# start programming\n",
    "\n",
    "\n",
    "\n",
    "\n",
    "\n",
    "# end programming"
   ]
  },
  {
   "cell_type": "markdown",
   "metadata": {},
   "source": [
    "## 綜合練習：OJ a082 降序排列\n",
    "#### 編寫一個Python程序，輸入 8 個數值，然後顯示此 8 個數值的降序排列，數值之間以一個空格分隔。\n",
    "#### http://zero1.puiching.edu.mo/ShowProblem?problemid=a082"
   ]
  },
  {
   "cell_type": "code",
   "execution_count": 63,
   "metadata": {},
   "outputs": [],
   "source": [
    "# start programming\n",
    "\n",
    "\n",
    "\n",
    "\n",
    "\n",
    "# end programming"
   ]
  }
 ],
 "metadata": {
  "kernelspec": {
   "display_name": "Python 3 (ipykernel)",
   "language": "python",
   "name": "python3"
  },
  "language_info": {
   "codemirror_mode": {
    "name": "ipython",
    "version": 3
   },
   "file_extension": ".py",
   "mimetype": "text/x-python",
   "name": "python",
   "nbconvert_exporter": "python",
   "pygments_lexer": "ipython3",
   "version": "3.9.7"
  }
 },
 "nbformat": 4,
 "nbformat_minor": 4
}
