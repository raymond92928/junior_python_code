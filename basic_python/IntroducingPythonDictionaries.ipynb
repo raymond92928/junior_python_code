{
 "cells": [
  {
   "cell_type": "markdown",
   "id": "b1538030",
   "metadata": {},
   "source": [
    "# # Introducing Python Dictionaries"
   ]
  },
  {
   "cell_type": "markdown",
   "id": "110e3087",
   "metadata": {},
   "source": [
    "Variables in Python can store various data types. Previously, you learned you can store strings and numbers:"
   ]
  },
  {
   "cell_type": "code",
   "execution_count": 1,
   "id": "206949c3",
   "metadata": {},
   "outputs": [],
   "source": [
    "name = 'Earth'\n",
    "moons = 1"
   ]
  },
  {
   "cell_type": "markdown",
   "id": "b5131af1",
   "metadata": {},
   "source": [
    "Although this method does work for smaller amounts of data, it can become increasingly complex when you're working with related data. Imagine wanting to store information about the moons of both Earth and Jupiter."
   ]
  },
  {
   "cell_type": "code",
   "execution_count": 2,
   "id": "a2b49a17",
   "metadata": {},
   "outputs": [],
   "source": [
    "earth_name = 'Earth'\n",
    "earth_moons = 1\n",
    "\n",
    "jupiter_name = 'Jupiter'\n",
    "jupiter_moons = 79"
   ]
  },
  {
   "cell_type": "markdown",
   "id": "c2d53aed",
   "metadata": {},
   "source": [
    "Notice how we duplicated variables with different prefixes. This duplication can become unwieldy. Because you'll frequently find yourself working with related sets of data, like average rainfall for different months in different cities, storing those variables as individual values isn't a viable option. Instead, you can use Python dictionaries."
   ]
  },
  {
   "cell_type": "markdown",
   "id": "2c1b9e49",
   "metadata": {},
   "source": [
    "Python dictionaries allow you to work with related sets of data. A dictionary is a collection of key/value pairs. Think of it like a group of variables inside of a container, where the key is the name of the variable, and the value is the value stored inside it."
   ]
  },
  {
   "cell_type": "markdown",
   "id": "98920e7a",
   "metadata": {},
   "source": [
    "# Create a dictionary"
   ]
  },
  {
   "cell_type": "markdown",
   "id": "ae7d782d",
   "metadata": {},
   "source": [
    "Python uses curly braces <span style='background:#C3C3C3'>{ } </span> and the colon <span style='background:#C3C3C3'>:</span> to denote a dictionary. You can either create an empty dictionary and add values later, or populate it at creation time. Each key/value is separated by a colon, and the name of each key is contained in quotes as a string literal. Because the key is a string literal, you can use whatever name is appropriate to describe the value."
   ]
  },
  {
   "cell_type": "markdown",
   "id": "fe64a7fc",
   "metadata": {},
   "source": [
    "Let's create a dictionary to store the name of the planet Earth, and the number of moons Earth has:"
   ]
  },
  {
   "cell_type": "code",
   "execution_count": 3,
   "id": "e2f1d01d",
   "metadata": {},
   "outputs": [],
   "source": [
    "planet = {\n",
    "    'name': 'Earth',\n",
    "    'moons': 1\n",
    "}"
   ]
  },
  {
   "cell_type": "markdown",
   "id": "e8595b51",
   "metadata": {},
   "source": [
    "You have two keys, <span style='background:#C3C3C3'>'name'</span> and <span style='background:#C3C3C3'>'moons''</span>. Each key behaves in much the same way as a variable: they have a unique name, and they store a value. However, they're contained inside of a single, larger variable, named planet."
   ]
  },
  {
   "cell_type": "markdown",
   "id": "0f6105a2",
   "metadata": {},
   "source": [
    "As with regular variables, you need to ensure that you're using the correct data types. In the <span style='background:#C3C3C3'>moons</span> value of <span style='background:#C3C3C3'>1</span> in the preceding example, you didn't include quotes around the number, because you want to use an integer. If you had used <span style='background:#C3C3C3'>'1'</span>, Python would see this variable as a string, which would affect your ability to perform calculations."
   ]
  },
  {
   "cell_type": "markdown",
   "id": "5ad8d719",
   "metadata": {},
   "source": [
    "Unlike regular variables, key names don't need to follow standard naming rules for Python. You can use key names to be more descriptive in your code."
   ]
  },
  {
   "cell_type": "markdown",
   "id": "188795e4",
   "metadata": {},
   "source": [
    "# Read dictionary values"
   ]
  },
  {
   "cell_type": "markdown",
   "id": "62cef159",
   "metadata": {},
   "source": [
    "You can read values inside a dictionary. Dictionary objects have a <span style='background:#C3C3C3'>get</span> method that you can use to access a value by using its key. If you want to print the <span style='background:#C3C3C3'>name</span>, you can use the following code:"
   ]
  },
  {
   "cell_type": "code",
   "execution_count": 4,
   "id": "3580aba8",
   "metadata": {},
   "outputs": [
    {
     "name": "stdout",
     "output_type": "stream",
     "text": [
      "Earth\n"
     ]
    }
   ],
   "source": [
    "print(planet.get('name'))"
   ]
  },
  {
   "cell_type": "markdown",
   "id": "c49b7fde",
   "metadata": {},
   "source": [
    "As you might suspect, accessing values in a dictionary is a common operation. Fortunately, there's a shortcut. You can also pass the key into square bracket notation <span style='background:#C3C3C3'>[ ]</span>. This method uses less code than <span style='background:#C3C3C3'> get</span>, and most programmers use this syntax instead. You could rewrite the preceding example by using the following:"
   ]
  },
  {
   "cell_type": "code",
   "execution_count": 5,
   "id": "48aec3ef",
   "metadata": {},
   "outputs": [
    {
     "name": "stdout",
     "output_type": "stream",
     "text": [
      "Earth\n"
     ]
    }
   ],
   "source": [
    "# planet['name'] is identical to using planet.get('name')\n",
    "print(planet['name'])"
   ]
  },
  {
   "cell_type": "markdown",
   "id": "22371a01",
   "metadata": {},
   "source": [
    "Although the behavior of <span style='background:#C3C3C3'> get</span> and the square brackets <span style='background:#C3C3C3'>[ ]</span> is generally the same for retrieving items, there's one key difference. If a key isn't available, <span style='background:#C3C3C3'> get</span> returns <span style='background:#C3C3C3'>None</span>, and <span style='background:#C3C3C3'>[ ]</span> raises a KeyError."
   ]
  },
  {
   "cell_type": "code",
   "execution_count": 6,
   "id": "d213b7c0",
   "metadata": {},
   "outputs": [],
   "source": [
    "wibble = planet.get('wibble') # Returns None\n",
    "# wibble = planet['wibble'] # Throws KeyError"
   ]
  },
  {
   "cell_type": "markdown",
   "id": "ac2ba5ec",
   "metadata": {},
   "source": [
    "# Modify dictionary values"
   ]
  },
  {
   "cell_type": "markdown",
   "id": "ebe17e53",
   "metadata": {},
   "source": [
    "You can also modify values inside a dictionary object, by using the <span style='background:#C3C3C3'>update</span> method. This method accepts a dictionary as a parameter, and updates any existing values with the new ones you provide. If you want to change the <span style='background:#C3C3C3'>name</span> for the <span style='background:#C3C3C3'>planet</span> dictionary, you can use the following, for example:"
   ]
  },
  {
   "cell_type": "code",
   "execution_count": 7,
   "id": "ad521b25",
   "metadata": {},
   "outputs": [],
   "source": [
    "planet.update({'name': 'Makemake'})\n",
    "\n",
    "# No output: name is now set to Makemake."
   ]
  },
  {
   "cell_type": "markdown",
   "id": "e7c8fa17",
   "metadata": {},
   "source": [
    "Similar to using the square brackets <span style='background:#C3C3C3'>[ ]</span> shortcut to read values, you can use the same shortcut to modify values. The key difference in syntax is that you use <span style='background:#C3C3C3'>=</span> (sometimes called the assignment operator) to provide a new value. To rewrite the preceding example to change the name, you can use the following:"
   ]
  },
  {
   "cell_type": "code",
   "execution_count": 8,
   "id": "7a4dbd22",
   "metadata": {},
   "outputs": [],
   "source": [
    "planet['name'] = 'Makemake'\n",
    "\n",
    "# No output: name is now set to Makemake."
   ]
  },
  {
   "cell_type": "markdown",
   "id": "62bc7167",
   "metadata": {},
   "source": [
    "The key advantage to using <span style='background:#C3C3C3'>update</span> is the ability to modify multiple values in one operation. The next two examples are logically the same, but the syntax is different. You're free to use whichever syntax you feel is most appropriate. Most developers choose square brackets to update individual values."
   ]
  },
  {
   "cell_type": "markdown",
   "id": "5d9ad0d9",
   "metadata": {},
   "source": [
    "The following example makes the same edits to our <span style='background:#C3C3C3'>planet</span> variable, updating the <span style='background:#C3C3C3'>name</span> and <span style='background:#C3C3C3'>moons</span>. Notice that by using <span style='background:#C3C3C3'>update</span>, you're making a single call to the function, whereas using square brackets involves two calls."
   ]
  },
  {
   "cell_type": "code",
   "execution_count": 9,
   "id": "b6fb23aa",
   "metadata": {},
   "outputs": [],
   "source": [
    "# Using update:\n",
    "planet.update({\n",
    "    'name': 'Jupiter',\n",
    "    'moons': 79\n",
    "})"
   ]
  },
  {
   "cell_type": "code",
   "execution_count": 10,
   "id": "9c7ece76",
   "metadata": {},
   "outputs": [],
   "source": [
    "# Using square brackets:\n",
    "planet['name'] = 'Jupiter'\n",
    "planet['moons'] = 79"
   ]
  },
  {
   "cell_type": "markdown",
   "id": "b307fd6f",
   "metadata": {},
   "source": [
    "# Add and remove keys"
   ]
  },
  {
   "cell_type": "markdown",
   "id": "991c3389",
   "metadata": {},
   "source": [
    "You're not required to create all keys when you initialize a dictionary. In fact, you don't need to create any! Whenever you want to create a new key, you assign it just as you would an existing one."
   ]
  },
  {
   "cell_type": "markdown",
   "id": "ba6b273b",
   "metadata": {},
   "source": [
    "Let's say you want to update <span style='background:#C3C3C3'>planet</span> to include the orbital period in days:"
   ]
  },
  {
   "cell_type": "code",
   "execution_count": 11,
   "id": "fe8fce73",
   "metadata": {},
   "outputs": [],
   "source": [
    "planet['orbital period'] = 4333\n",
    "\n",
    "# planet dictionary now contains: {\n",
    "#   name: 'jupiter'\n",
    "#   moons: 79\n",
    "#   orbital period: 4333\n",
    "# }"
   ]
  },
  {
   "cell_type": "markdown",
   "id": "d9f01057",
   "metadata": {},
   "source": [
    "To remove a key, you use <span style='background:#C3C3C3'>pop</span>. <span style='background:#C3C3C3'>pop</span> returns the value and removes the key from the dictionary. To remove <span style='background:#C3C3C3'>orbital period</span>, you can use the following code:"
   ]
  },
  {
   "cell_type": "code",
   "execution_count": 12,
   "id": "a2b83bc6",
   "metadata": {},
   "outputs": [
    {
     "data": {
      "text/plain": [
       "4333"
      ]
     },
     "execution_count": 12,
     "metadata": {},
     "output_type": "execute_result"
    }
   ],
   "source": [
    "planet.pop('orbital period')\n",
    "\n",
    "# planet dictionary now contains: {\n",
    "#   name: 'jupiter'\n",
    "#   moons: 79\n",
    "# }"
   ]
  },
  {
   "cell_type": "markdown",
   "id": "e751b7d7",
   "metadata": {},
   "source": [
    "# Complex data types"
   ]
  },
  {
   "cell_type": "markdown",
   "id": "b980e73c",
   "metadata": {},
   "source": [
    "Dictionaries are able to store any type of a value, including other dictionaries. This allows you to model complex data as needed. Imagine needing to store the diameter for  <span style='background:#C3C3C3'>planet</span>, which could be measured around its equator or poles. You can create another dictionary inside of  <span style='background:#C3C3C3'>planet</span> to store this information:"
   ]
  },
  {
   "cell_type": "code",
   "execution_count": 13,
   "id": "81b25e01",
   "metadata": {},
   "outputs": [],
   "source": [
    "# Add address\n",
    "planet['diameter (km)'] = {\n",
    "    'polar': 133709,\n",
    "    'equatorial': 142984\n",
    "}\n",
    "\n",
    "# planet dictionary now contains: {\n",
    "#   name: 'Jupiter'\n",
    "#   moons: 79\n",
    "#   diameter (km): {\n",
    "#      polar: 133709\n",
    "#      equatorial: 142984\n",
    "#   }\n",
    "# }"
   ]
  },
  {
   "cell_type": "markdown",
   "id": "b1af1b68",
   "metadata": {},
   "source": [
    "To retrieve values in a nested dictionary, you chain together square brackets, or calls to <span style='background:#C3C3C3'>get</span>."
   ]
  },
  {
   "cell_type": "code",
   "execution_count": 14,
   "id": "c2121454",
   "metadata": {},
   "outputs": [
    {
     "name": "stdout",
     "output_type": "stream",
     "text": [
      "Jupiter polar diameter: 133709\n"
     ]
    }
   ],
   "source": [
    "print(f'{planet[\"name\"]} polar diameter: {planet[\"diameter (km)\"][\"polar\"]}')"
   ]
  },
  {
   "cell_type": "markdown",
   "id": "564d303c",
   "metadata": {},
   "source": [
    "# Dynamic programming with dictionaries"
   ]
  },
  {
   "cell_type": "markdown",
   "id": "4f677eed",
   "metadata": {},
   "source": [
    "In your program, you want to perform various calculations, like totaling the number of moons. Additionally, as you get into more advanced programming, you might find that you're loading this type of information from files or a database, rather than coding directly into Python.\n",
    "\n",
    "To help support these scenarios, Python enables you to treat both the keys and values inside of a dictionary as a list. You can dynamically determine keys and values, and perform various calculations.\n",
    "\n",
    "Imagine a dictionary storing monthly rainfall amounts. You would likely have keys for each month and the associated rainfall. You want to add up the total rainfall, and writing the code to perform the operation by using each individual key would be rather tedious."
   ]
  },
  {
   "cell_type": "markdown",
   "id": "f53d43e3",
   "metadata": {},
   "source": [
    "# Retrieve all keys and values"
   ]
  },
  {
   "cell_type": "markdown",
   "id": "31a22d57",
   "metadata": {},
   "source": [
    "The <span style='background:#C3C3C3'>keys()</span> method returns a list object that contains all the keys. You can use this method to iterate through all items in the dictionary."
   ]
  },
  {
   "cell_type": "markdown",
   "id": "e41c70bb",
   "metadata": {},
   "source": [
    "Imagine you have the following dictionary, storing the last three months of rainfall."
   ]
  },
  {
   "cell_type": "code",
   "execution_count": 15,
   "id": "8eb8b978",
   "metadata": {},
   "outputs": [],
   "source": [
    "rainfall = {\n",
    "    'october': 3.5,\n",
    "    'november': 4.2,\n",
    "    'december': 2.1\n",
    "}"
   ]
  },
  {
   "cell_type": "markdown",
   "id": "abdff1f8",
   "metadata": {},
   "source": [
    "Let's say you want to display the list of all rainfall. You can type out the name of each month, but that would be tedious."
   ]
  },
  {
   "cell_type": "code",
   "execution_count": 17,
   "id": "9feb9f71",
   "metadata": {},
   "outputs": [
    {
     "name": "stdout",
     "output_type": "stream",
     "text": [
      "october: 3.5cm\n",
      "november: 4.2cm\n",
      "december: 2.1cm\n"
     ]
    }
   ],
   "source": [
    "for key in rainfall.keys():\n",
    "    print(f'{key}: {rainfall[key]}cm')\n",
    "    \n",
    "# Note: You can still use square brackets [ ] with a variable name, rather than the hard-coded string literal."
   ]
  },
  {
   "cell_type": "markdown",
   "id": "0d44161c",
   "metadata": {},
   "source": [
    "# Determine if a key exists in a dictionary"
   ]
  },
  {
   "cell_type": "markdown",
   "id": "81da8236",
   "metadata": {},
   "source": [
    "When you update a value in a dictionary, Python will either overwrite the existing value or create a new one, if the key doesn't exist. If you wish to add to a value rather than overwriting it, you can check to see if the key exists by using <span style='background:#C3C3C3'>in</span>. For example, if you want to add a value to December or create a new one if it doesn't exist, you can use the following:"
   ]
  },
  {
   "cell_type": "code",
   "execution_count": 18,
   "id": "932384f4",
   "metadata": {},
   "outputs": [],
   "source": [
    "if 'december' in rainfall:\n",
    "    rainfall['december'] = rainfall['december'] + 1\n",
    "else:\n",
    "    rainfall['december'] = 1\n",
    "\n",
    "# Because december exists, the value will be 3.1"
   ]
  },
  {
   "cell_type": "markdown",
   "id": "2e6c8ae2",
   "metadata": {},
   "source": [
    "# Retrieve all values"
   ]
  },
  {
   "cell_type": "markdown",
   "id": "b01117e5",
   "metadata": {},
   "source": [
    "Similar to <span style='background:#C3C3C3'>keys()</span>, <span style='background:#C3C3C3'>values()</span> returns the list of all values in a dictionary without their respective keys. <span style='background:#C3C3C3'>values()</span> can be helpful when you're using the key for labeling purposes, such as the preceding example, in which the keys are the name of the month. You can use <span style='background:#C3C3C3'>values()</span> to determine the total rainfall amount:"
   ]
  },
  {
   "cell_type": "code",
   "execution_count": 19,
   "id": "1d07a862",
   "metadata": {},
   "outputs": [
    {
     "name": "stdout",
     "output_type": "stream",
     "text": [
      "There was 10.8cm in the last quarter.\n"
     ]
    }
   ],
   "source": [
    "total_rainfall = 0\n",
    "for value in rainfall.values():\n",
    "    total_rainfall = total_rainfall + value\n",
    "\n",
    "print(f'There was {total_rainfall}cm in the last quarter.')"
   ]
  },
  {
   "cell_type": "markdown",
   "id": "cb2feaf5",
   "metadata": {},
   "source": [
    "reference: https://learn.microsoft.com/en-us/training/modules/python-dictionaries/"
   ]
  },
  {
   "cell_type": "code",
   "execution_count": null,
   "id": "6d3daa24",
   "metadata": {},
   "outputs": [],
   "source": []
  }
 ],
 "metadata": {
  "kernelspec": {
   "display_name": "Python 3 (ipykernel)",
   "language": "python",
   "name": "python3"
  },
  "language_info": {
   "codemirror_mode": {
    "name": "ipython",
    "version": 3
   },
   "file_extension": ".py",
   "mimetype": "text/x-python",
   "name": "python",
   "nbconvert_exporter": "python",
   "pygments_lexer": "ipython3",
   "version": "3.11.5"
  }
 },
 "nbformat": 4,
 "nbformat_minor": 5
}
