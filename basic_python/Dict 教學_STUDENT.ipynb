{
 "cells": [
  {
   "cell_type": "markdown",
   "id": "902990f6",
   "metadata": {},
   "source": [
    "## Dict\n",
    "\n",
    "在 Python 的字典中，每一個元素都由鍵 (key) 和值 (value) 構成，結構為key: value 。不同的元素之間會以逗號分隔，並且以大括號 {}圍住。\n",
    "\n",
    "字典提供了非常快的查詢速度，使用的方法如下：\n",
    "\n",
    "d = {key1: value1, key2: value2}\n",
    "備註：Python 中的 dictionary 和其他程式語言的 hash map 雷同。"
   ]
  },
  {
   "cell_type": "markdown",
   "id": "ff7f4c41",
   "metadata": {},
   "source": [
    "什麼時候會使用到 dictionary 呢 ?\n",
    "dictionary 是一種較為複雜的資料結構，對於資料的查找很方便。\n",
    "\n",
    "舉例來說，一部電影會有導演、演員、年份、得到的獎項等等資訊，如果要把資訊整合在一起、使寫程式時表示起來比較方便查詢時，我們就會使用 dictionary 來儲存與這部電影相關的資訊。\n",
    "\n",
    "《搶救雷恩大兵》是一部美國於 1998 年上映的戰爭片，以這部電影來說，我們可以建立以下的字典：\n"
   ]
  },
  {
   "cell_type": "code",
   "execution_count": 2,
   "id": "c55b3cef",
   "metadata": {},
   "outputs": [
    {
     "name": "stdout",
     "output_type": "stream",
     "text": [
      "{'name': 'Saving Private Ryan', 'year': 1998, 'director': 'Steven Spielberg', 'Writer': 'Robert Rodat', 'Stars': ['Tom Hanks', 'Matt Damon', 'Tom Sizemore'], 'Oscar ': ['Best Director', 'Best Cinematography', 'Best Sound', 'Best Film Editing', 'Best Effects, Sound Effects Editing']}\n"
     ]
    }
   ],
   "source": [
    "movie = {'name':'Saving Private Ryan', #電影名稱\n",
    "         'year':1998, #電影上映年份\n",
    "         'director':'Steven Spielberg',#導演\n",
    "         'Writer': 'Robert Rodat', #編劇\n",
    "         'Stars':['Tom Hanks', 'Matt Damon', 'Tom Sizemore'],#明星\n",
    "         'Oscar ':['Best Director','Best Cinematography','Best Sound','Best Film Editing','Best Effects, Sound Effects Editing']\n",
    "         #獲得的奧斯卡獎項\n",
    "        }\n",
    "print(movie)"
   ]
  },
  {
   "cell_type": "markdown",
   "id": "7cc633c3",
   "metadata": {},
   "source": [
    "如上圖所示， movie 這個變數所代表的就是一個 dictionary，裡面包含了這部電影的名稱、上映年份、導演、編劇、主演的明星、以及所獲得的奧斯卡獎項。\n",
    "\n",
    "如果今天我們想要知道這部電影的導演是誰，就使用 [] 來透過 key 取得這個 key 所對應的值 (value)。要印出導演的程式碼如下 :"
   ]
  },
  {
   "cell_type": "code",
   "execution_count": 3,
   "id": "4f060298",
   "metadata": {},
   "outputs": [
    {
     "name": "stdout",
     "output_type": "stream",
     "text": [
      "Steven Spielberg\n"
     ]
    }
   ],
   "source": [
    "print(movie['director'])"
   ]
  },
  {
   "cell_type": "markdown",
   "id": "5cebba4b",
   "metadata": {},
   "source": [
    "在中括號內輸入當初建立時創的 key，就可以取得對應的值。 執行結果如下"
   ]
  },
  {
   "cell_type": "markdown",
   "id": "80058c5f",
   "metadata": {},
   "source": [
    "可以看到， 輸入 movie['director'] 所代表的即為 'director' 這個 key 所對應的 value — Steven Spielberg ，表示這部電影的導演為史蒂芬史匹柏。"
   ]
  },
  {
   "cell_type": "markdown",
   "id": "b6e43b18",
   "metadata": {},
   "source": [
    "## 建立字典\n",
    "字典裡元素的\"值\"(value)可以是任何的資料型態，例如: 字串、整數、list、物件等等。但 key 必須是唯一且不可變的，也就是在寫程式時不可隨意更動，如整數、字串、tuple 等。\n",
    "\n",
    "Python 創建字典的方式有兩種:\n",
    "\n",
    "使用大刮號 {}\n",
    "使用內建函數 dict()\n",
    "\n",
    "\n"
   ]
  },
  {
   "cell_type": "code",
   "execution_count": null,
   "id": "ec47585d",
   "metadata": {},
   "outputs": [],
   "source": [
    "dict_1 = {} #使用大刮號{}創建字典\n",
    "dict_2 = dict()"
   ]
  },
  {
   "cell_type": "markdown",
   "id": "21cdcb9a",
   "metadata": {},
   "source": [
    "當然，我們也可以在建立字典的時候，便直接初始化字典的內容。\n",
    "\n",
    "下面舉三部電影來當例子："
   ]
  },
  {
   "cell_type": "code",
   "execution_count": 26,
   "id": "c8afff8a",
   "metadata": {},
   "outputs": [],
   "source": [
    "movie_1 = {'name': 'Saving Private Ryan',\n",
    "           'year': 1998,\n",
    "           'director': 'Steven Spielberg'}\n",
    "movie_2 = dict(name='The Breakfast Club',\n",
    "               year=1985, \n",
    "               director='John Hughes')\n",
    "movie_3 = {'name': 'Catch Me If You Can',\n",
    "           'year': 2002,\n",
    "           'director': 'Steven Spielberg'}"
   ]
  },
  {
   "cell_type": "markdown",
   "id": "b7a95cc9",
   "metadata": {},
   "source": [
    "建立字典以後，我們可以利用下面的作法來存取 key 的值，也就是透過 key 來取得對應的 value："
   ]
  },
  {
   "cell_type": "code",
   "execution_count": 27,
   "id": "52934a65",
   "metadata": {},
   "outputs": [
    {
     "name": "stdout",
     "output_type": "stream",
     "text": [
      "Saving Private Ryan\n",
      "1985\n",
      "Steven Spielberg\n"
     ]
    }
   ],
   "source": [
    "print(movie_1['name'])     #執行後會得到 Saving Private Ryan\n",
    "print(movie_2['year'])     #執行後會得到 1985\n",
    "print(movie_3['director']) #執行後會得到 Steven Spielberg"
   ]
  },
  {
   "cell_type": "markdown",
   "id": "973f80b6",
   "metadata": {},
   "source": [
    "概念大概就是給了 key ，他就會返還一個 value 給你。 key 的資料型別沒有太多的限制，可以是 string (字串)、數字等等。如果今天輸入了一個並不存在的 key 的話，程式會回傳錯誤的訊息："
   ]
  },
  {
   "cell_type": "code",
   "execution_count": 28,
   "id": "4a324945",
   "metadata": {},
   "outputs": [
    {
     "ename": "KeyError",
     "evalue": "'cast'",
     "output_type": "error",
     "traceback": [
      "\u001b[1;31m---------------------------------------------------------------------------\u001b[0m",
      "\u001b[1;31mKeyError\u001b[0m                                  Traceback (most recent call last)",
      "Input \u001b[1;32mIn [28]\u001b[0m, in \u001b[0;36m<cell line: 1>\u001b[1;34m()\u001b[0m\n\u001b[1;32m----> 1\u001b[0m \u001b[38;5;28mprint\u001b[39m(\u001b[43mmovie_1\u001b[49m\u001b[43m[\u001b[49m\u001b[38;5;124;43m\"\u001b[39;49m\u001b[38;5;124;43mcast\u001b[39;49m\u001b[38;5;124;43m\"\u001b[39;49m\u001b[43m]\u001b[49m)\n",
      "\u001b[1;31mKeyError\u001b[0m: 'cast'"
     ]
    }
   ],
   "source": [
    "print(movie_1[\"cast\"]) #這個會回傳錯誤的訊息"
   ]
  },
  {
   "cell_type": "markdown",
   "id": "ccd14cb1",
   "metadata": {},
   "source": [
    "如果要避免上面的情況發生的話，可以使用 get method 來存取值，此時如果 key 不存在時，程式會回傳 None ，就不會回傳錯誤訊息了。"
   ]
  },
  {
   "cell_type": "code",
   "execution_count": 29,
   "id": "3c80ce6b",
   "metadata": {},
   "outputs": [
    {
     "name": "stdout",
     "output_type": "stream",
     "text": [
      "None\n"
     ]
    }
   ],
   "source": [
    "print(movie_1.get(\"cast\"))\n",
    "#如果key不存在的話，程式會回傳None，不會出現錯誤訊息"
   ]
  },
  {
   "cell_type": "markdown",
   "id": "4f081717",
   "metadata": {},
   "source": [
    "如果不希望程式回傳 None ，而是想要自己另外設定空訊息的話，也可以在括號內設定自己想要的空訊息。\n",
    "執行結果如下，原本是回傳 None 的，現在變成回傳 not found 了。"
   ]
  },
  {
   "cell_type": "code",
   "execution_count": 30,
   "id": "73f77e3d",
   "metadata": {},
   "outputs": [
    {
     "name": "stdout",
     "output_type": "stream",
     "text": [
      "not found\n"
     ]
    }
   ],
   "source": [
    "print(movie_1.get(\"cast\", \"not found\"))\n",
    "#可以自己設定空訊息"
   ]
  },
  {
   "cell_type": "code",
   "execution_count": 10,
   "id": "20f9da9f",
   "metadata": {},
   "outputs": [
    {
     "name": "stdout",
     "output_type": "stream",
     "text": [
      "{'電影': '孤注一擲', '導演': '申奧', '演員': ['張藝興', '金晨', '王大陸', '周也', '王傳君']}\n"
     ]
    }
   ],
   "source": [
    "'''\n",
    "練習1:\n",
    "建立一個dict 名為 movie_4\n",
    "\n",
    "電影: 孤注一擲 \n",
    "導演: 申奧\n",
    "演員: 張藝興, 金晨, 王大陸, 周也, 王傳君\n",
    "\n",
    "'''\n",
    "\n",
    "\n",
    "\n",
    "\n",
    "\n",
    "\n"
   ]
  },
  {
   "cell_type": "code",
   "execution_count": 11,
   "id": "efe47760",
   "metadata": {},
   "outputs": [
    {
     "name": "stdout",
     "output_type": "stream",
     "text": [
      "申奧\n"
     ]
    }
   ],
   "source": [
    "'''\n",
    "練習2:\n",
    "在movie_4 存取 導演\n",
    "'''\n",
    "\n",
    "\n",
    "\n",
    "\n",
    "\n",
    "\n",
    "\n"
   ]
  },
  {
   "cell_type": "markdown",
   "id": "d00f028b",
   "metadata": {},
   "source": [
    "## 新增或更新資料\n",
    "也可以使用存取值的做法來新增或是更動一筆元素的 key-value 。\n",
    "\n",
    "用法如下:"
   ]
  },
  {
   "cell_type": "markdown",
   "id": "6197e2cb",
   "metadata": {},
   "source": [
    "dictName[key] = value"
   ]
  },
  {
   "cell_type": "markdown",
   "id": "96246fad",
   "metadata": {},
   "source": [
    "以 movie_1 的例子來說，如果想要增加一筆 key 為 \"star\"、 value 為 \"Tom Hank\" 的元素的話，程式碼如下："
   ]
  },
  {
   "cell_type": "code",
   "execution_count": 31,
   "id": "b284ed9b",
   "metadata": {},
   "outputs": [],
   "source": [
    "movie_1['star'] = \"Tom Hank\" #新增key-value"
   ]
  },
  {
   "cell_type": "code",
   "execution_count": 32,
   "id": "45affa1b",
   "metadata": {},
   "outputs": [
    {
     "name": "stdout",
     "output_type": "stream",
     "text": [
      "{'name': 'Saving Private Ryan', 'year': 1998, 'director': 'Steven Spielberg', 'star': 'Tom Hank'}\n"
     ]
    }
   ],
   "source": [
    "print(movie_1)"
   ]
  },
  {
   "cell_type": "markdown",
   "id": "4d00985f",
   "metadata": {},
   "source": [
    "可以看到， movie_1 在最後增加了一個元素 'star': 'Tom Hank' 。"
   ]
  },
  {
   "cell_type": "markdown",
   "id": "2827e6de",
   "metadata": {},
   "source": [
    "如果一次要更新很多筆資料，建議可以使用 update method。\n",
    "\n",
    "使用方法如下:"
   ]
  },
  {
   "cell_type": "markdown",
   "id": "66628546",
   "metadata": {},
   "source": [
    "original_dict.update(new_dict)"
   ]
  },
  {
   "cell_type": "markdown",
   "id": "f58c210d",
   "metadata": {},
   "source": [
    "以剛剛的 movie_1 例子而言，如果要一次增加編劇、明星、與所獲得的獎項等等，可以先創建一個新的 dictionary，裡面包含要增加的元素的，再使用 update method 完成更新。"
   ]
  },
  {
   "cell_type": "code",
   "execution_count": 33,
   "id": "9ab9d4a3",
   "metadata": {},
   "outputs": [
    {
     "name": "stdout",
     "output_type": "stream",
     "text": [
      "{'name': 'Saving Private Ryan', 'year': 1998, 'director': 'Steven Spielberg', 'star': 'Tom Hank', 'writer': 'Robert Rodat', 'stars': ['Tom Hanks', 'Matt Damon', 'Tom Sizemore'], 'Oscar ': ['Best Director', 'Best Cinematography', 'Best Sound', 'Best Film Editing', 'Best Effects, Sound Effects Editing']}\n"
     ]
    }
   ],
   "source": [
    "#如果一次要update很多value at a time 用update method就會比較方便\n",
    "temp_dict = {'writer': 'Robert Rodat', #編劇\n",
    "         'stars':['Tom Hanks', 'Matt Damon', 'Tom Sizemore'],#明星\n",
    "         'Oscar ':['Best Director','Best Cinematography','Best Sound','Best Film Editing','Best Effects, Sound Effects Editing']\n",
    "         }\n",
    "movie_1.update(temp_dict)\n",
    "print(movie_1)"
   ]
  },
  {
   "cell_type": "markdown",
   "id": "c1b12dc3",
   "metadata": {},
   "source": [
    "執行完就可以看到， 新的 movie_1 裡面已經被增加在 temp_dict 中的元素囉"
   ]
  },
  {
   "cell_type": "code",
   "execution_count": 18,
   "id": "7b0a914d",
   "metadata": {},
   "outputs": [
    {
     "name": "stdout",
     "output_type": "stream",
     "text": [
      "{'電影': '孤注一擲', '導演': '申奧', '演員': ['張藝興', '金晨', '王大陸', '周也', '王傳君'], '片長': '2小時10分', '級別': 'IIB', '級語言': '普通話'}\n"
     ]
    }
   ],
   "source": [
    "'''\n",
    "練習3:\n",
    "在movie_4 加入\n",
    "片長:2小時10分\n",
    "級別:IIB \n",
    "級語言:普通話\n",
    "'''\n",
    "\n",
    "\n",
    "\n",
    "\n",
    "\n",
    "\n",
    "\n"
   ]
  },
  {
   "cell_type": "markdown",
   "id": "ceffde4b",
   "metadata": {},
   "source": [
    "## 刪除資料\n",
    "如果要刪除一筆元素，有兩種方式：\n",
    "\n",
    "del method\n",
    "我們可以利用del敘述來刪除一筆元素的key - value，方法如下："
   ]
  },
  {
   "cell_type": "markdown",
   "id": "52f753c7",
   "metadata": {},
   "source": [
    "del dict_name['key']"
   ]
  },
  {
   "cell_type": "markdown",
   "id": "9a466f9e",
   "metadata": {},
   "source": [
    "以 movie_1 的例子來說，因為剛剛在 update 時已經新增了 stars 的項目，就顯得原有的 star 很多餘。所以在這裡我們要把他刪掉。"
   ]
  },
  {
   "cell_type": "code",
   "execution_count": 34,
   "id": "b7ac2421",
   "metadata": {},
   "outputs": [
    {
     "name": "stdout",
     "output_type": "stream",
     "text": [
      "{'name': 'Saving Private Ryan', 'year': 1998, 'director': 'Steven Spielberg', 'writer': 'Robert Rodat', 'stars': ['Tom Hanks', 'Matt Damon', 'Tom Sizemore'], 'Oscar ': ['Best Director', 'Best Cinematography', 'Best Sound', 'Best Film Editing', 'Best Effects, Sound Effects Editing']}\n"
     ]
    }
   ],
   "source": [
    "del movie_1['star']\n",
    "print(movie_1)"
   ]
  },
  {
   "cell_type": "markdown",
   "id": "f64353ab",
   "metadata": {},
   "source": [
    "執行此行程式碼後再印出 movie_1 ，可以看到 movie_1 中 key 為 'star' 的這筆元素已經不見了。"
   ]
  },
  {
   "cell_type": "markdown",
   "id": "d4cfb46c",
   "metadata": {},
   "source": [
    "2. pop method\n",
    "\n",
    "使用 pop method 的好處是他會回傳你要刪掉的那個值。\n",
    "\n",
    "如果想要把 movie_1 裡面 key 為 writer 的元素刪除，同時回傳那個 key 所對應的值。程式碼如下："
   ]
  },
  {
   "cell_type": "markdown",
   "id": "b68bca28",
   "metadata": {},
   "source": [
    "writer = movie_1.pop('writer')"
   ]
  },
  {
   "cell_type": "markdown",
   "id": "7b1b2998",
   "metadata": {},
   "source": [
    "此時印出 writer ，可以看到他就是 movie_1 中， writer key 所對應的 value。執行結果如下：\n",
    "\n"
   ]
  },
  {
   "cell_type": "code",
   "execution_count": 37,
   "id": "72b6981f",
   "metadata": {},
   "outputs": [
    {
     "name": "stdout",
     "output_type": "stream",
     "text": [
      "{'name': 'Saving Private Ryan', 'year': 1998, 'director': 'Steven Spielberg', 'stars': ['Tom Hanks', 'Matt Damon', 'Tom Sizemore'], 'Oscar ': ['Best Director', 'Best Cinematography', 'Best Sound', 'Best Film Editing', 'Best Effects, Sound Effects Editing']}\n",
      "Robert Rodat\n"
     ]
    }
   ],
   "source": [
    "writer=movie_1.pop(\"writer\")\n",
    "print(movie_1)\n",
    "print(writer)"
   ]
  },
  {
   "cell_type": "markdown",
   "id": "1d6a77c1",
   "metadata": {},
   "source": [
    "print(writer) 的結果會印出原本writer key 所對應的 value — ‘Robert Rodat’，而原本的 movie_1 已經不包含 'writer':'Robert Rodat' 這個元素了。"
   ]
  },
  {
   "cell_type": "markdown",
   "id": "84f00d1e",
   "metadata": {},
   "source": [
    "其他用法\n",
    "關於字典，還有許多其它很好用的方法。\n",
    "\n",
    "計算字典中的元素個數\n",
    "函式 len()可以適用於傳回字典中包含幾個元素:"
   ]
  },
  {
   "cell_type": "markdown",
   "id": "ee86db82",
   "metadata": {},
   "source": [
    "len(dict_name)"
   ]
  },
  {
   "cell_type": "markdown",
   "id": "687c5ca6",
   "metadata": {},
   "source": [
    "如果要印出 movie_1 的長度，程式碼如下:"
   ]
  },
  {
   "cell_type": "code",
   "execution_count": 38,
   "id": "8caf2f61",
   "metadata": {},
   "outputs": [
    {
     "name": "stdout",
     "output_type": "stream",
     "text": [
      "5\n"
     ]
    }
   ],
   "source": [
    "print(len(movie_1))"
   ]
  },
  {
   "cell_type": "markdown",
   "id": "b61c0993",
   "metadata": {},
   "source": [
    "2. 印出字典裡的所有 key\n",
    "\n",
    "如果要印出一個字典中所有的 key 值的話，可以使用 dictionary 中的 keys method。他會回傳這個字典當中，包含的所有 key。\n",
    "\n",
    "使用方法如下:"
   ]
  },
  {
   "cell_type": "markdown",
   "id": "62382b0c",
   "metadata": {},
   "source": [
    "dict_name.keys()"
   ]
  },
  {
   "cell_type": "markdown",
   "id": "58f57be3",
   "metadata": {},
   "source": [
    "執行結果如下，可以看到程式印出此字典包含的所有 key ，讓你了解這個字典裏面有哪些鍵值。"
   ]
  },
  {
   "cell_type": "code",
   "execution_count": 39,
   "id": "37caa9fc",
   "metadata": {},
   "outputs": [
    {
     "name": "stdout",
     "output_type": "stream",
     "text": [
      "dict_keys(['name', 'year', 'director', 'stars', 'Oscar '])\n"
     ]
    }
   ],
   "source": [
    "print(movie_1.keys())"
   ]
  },
  {
   "cell_type": "markdown",
   "id": "d40ffab6",
   "metadata": {},
   "source": [
    "3. 印出字典裡的所有 value\n",
    "\n",
    "如果是想要印出程式裡所有鍵值所對應的值，就可以使用 values method\n",
    "\n",
    "使用方法如下："
   ]
  },
  {
   "cell_type": "markdown",
   "id": "b248ac90",
   "metadata": {},
   "source": [
    "dict_name.values()"
   ]
  },
  {
   "cell_type": "markdown",
   "id": "dabc980f",
   "metadata": {},
   "source": [
    "程式碼如下，在字典名稱後面加上 .values():"
   ]
  },
  {
   "cell_type": "code",
   "execution_count": 40,
   "id": "5deaa526",
   "metadata": {},
   "outputs": [
    {
     "name": "stdout",
     "output_type": "stream",
     "text": [
      "dict_values(['Saving Private Ryan', 1998, 'Steven Spielberg', ['Tom Hanks', 'Matt Damon', 'Tom Sizemore'], ['Best Director', 'Best Cinematography', 'Best Sound', 'Best Film Editing', 'Best Effects, Sound Effects Editing']])\n"
     ]
    }
   ],
   "source": [
    "print(movie_1.values())"
   ]
  },
  {
   "cell_type": "markdown",
   "id": "b344c062",
   "metadata": {},
   "source": [
    "4. 印出字典裡的所有元素\n",
    "\n",
    "想要同時看到字典的 key 還有 value，有 items method 可以使用：\n",
    "\n",
    "dict_name.items()\n",
    "程式碼如下：\n"
   ]
  },
  {
   "cell_type": "code",
   "execution_count": 45,
   "id": "5a883bf4",
   "metadata": {},
   "outputs": [
    {
     "name": "stdout",
     "output_type": "stream",
     "text": [
      "dict_items([('name', 'Saving Private Ryan'), ('year', 1998), ('director', 'Steven Spielberg'), ('stars', ['Tom Hanks', 'Matt Damon', 'Tom Sizemore']), ('Oscar ', ['Best Director', 'Best Cinematography', 'Best Sound', 'Best Film Editing', 'Best Effects, Sound Effects Editing'])])\n"
     ]
    }
   ],
   "source": [
    "print(movie_1.items())"
   ]
  },
  {
   "cell_type": "code",
   "execution_count": 46,
   "id": "e785ea7e",
   "metadata": {},
   "outputs": [
    {
     "name": "stdout",
     "output_type": "stream",
     "text": [
      "dict_keys(['電影', '導演', '片長', '級別', '級語言'])\n",
      "dict_values(['孤注一擲', '申奧', '2小時10分', 'IIB', '普通話'])\n",
      "5\n",
      "dict_items([('電影', '孤注一擲'), ('導演', '申奧'), ('片長', '2小時10分'), ('級別', 'IIB'), ('級語言', '普通話')])\n"
     ]
    }
   ],
   "source": [
    "'''\n",
    "練習4:\n",
    "列印出movie_4的所有key , value ,長度 及items\n",
    "'''\n",
    "\n",
    "\n",
    "\n",
    "\n",
    "\n"
   ]
  },
  {
   "cell_type": "code",
   "execution_count": 44,
   "id": "a0eff8f1",
   "metadata": {},
   "outputs": [
    {
     "name": "stdout",
     "output_type": "stream",
     "text": [
      "{'電影': '孤注一擲', '導演': '申奧', '片長': '2小時10分', '級別': 'IIB', '級語言': '普通話'}\n",
      "['張藝興', '金晨', '王大陸', '周也', '王傳君']\n"
     ]
    }
   ],
   "source": [
    "'''\n",
    "練習5:\n",
    "運用pop, 把movie_4 中的\"演員\" 的元素刪除，同時回傳\"演員\" 所對應的值\n",
    "'''\n",
    "\n",
    "\n",
    "\n",
    "\n",
    "\n"
   ]
  },
  {
   "cell_type": "markdown",
   "id": "f8a46878",
   "metadata": {},
   "source": [
    "5. 檢查指定的 key 是否存在於字典中\n",
    "\n",
    "判斷字串是否存在於字典A中的用法，可以使用 in 這個語法。\n",
    "'key' in dict_name 會回傳一個布林值 (bool) ，以 True或是 False告訴你這個 key 值是否存在於字典中"
   ]
  },
  {
   "cell_type": "markdown",
   "id": "cb5405b0",
   "metadata": {},
   "source": [
    "'key' in dict_name"
   ]
  },
  {
   "cell_type": "code",
   "execution_count": 47,
   "id": "bab9bbed",
   "metadata": {},
   "outputs": [
    {
     "name": "stdout",
     "output_type": "stream",
     "text": [
      "True\n",
      "False\n"
     ]
    }
   ],
   "source": [
    "print( 'name' in movie_1)\n",
    "print( 'Steven Spielberg' in movie_1)"
   ]
  },
  {
   "cell_type": "markdown",
   "id": "300435af",
   "metadata": {},
   "source": [
    "執行結果如下，可以看到因為 'name' 有包含在 movie_1 的 key 值當中，所以會回傳 True 。\n",
    "\n",
    "但是要注意，因為他只會找 key 值，所以傳 value 進去會回傳 False 喔。例如第二行的程式碼， \"Steven Spielberg\" 包含於 movie_1 的 value 中，所以回傳的是False 。"
   ]
  },
  {
   "cell_type": "markdown",
   "id": "d9d592e7",
   "metadata": {},
   "source": [
    "\n",
    "假設有三個字典的內容如下：\n",
    "\n"
   ]
  },
  {
   "cell_type": "markdown",
   "id": "88d6c04f",
   "metadata": {},
   "source": [
    "movie_1 = {'name':'Saving Private Ryan',\n",
    "           'year':1998,\n",
    "           'director':'Steven Spielberg'}\n"
   ]
  },
  {
   "cell_type": "markdown",
   "id": "ad5ace90",
   "metadata": {},
   "source": [
    "movie_2 = dict(name = 'The Breakfast Club',\n",
    "               year = 1985, \n",
    "               director= 'John Hughes')\n"
   ]
  },
  {
   "cell_type": "markdown",
   "id": "bbef588f",
   "metadata": {},
   "source": [
    "movie_3 = {'name':'Catch Me If You Can',\n",
    "           'year':2002,\n",
    "           'director':'Steven Spielberg'}\n"
   ]
  },
  {
   "cell_type": "markdown",
   "id": "3fdf4a4b",
   "metadata": {},
   "source": [
    "\n",
    "比較運算子\n",
    "利用“==”、 “!=”等兩個比較運算子，便可以判斷兩個字典是否包含相同的鍵-值對："
   ]
  },
  {
   "cell_type": "markdown",
   "id": "4ec72286",
   "metadata": {},
   "source": [
    "dict_name_1 == dict_name_2"
   ]
  },
  {
   "cell_type": "markdown",
   "id": "113de9d9",
   "metadata": {},
   "source": [
    "程式碼如下，程式會回傳一個布林值 (bool)，若兩個字典包含相同的 key -value，會回傳 True ，反之則會回傳 False 。"
   ]
  },
  {
   "cell_type": "code",
   "execution_count": 48,
   "id": "eb8ea142",
   "metadata": {},
   "outputs": [
    {
     "name": "stdout",
     "output_type": "stream",
     "text": [
      "False\n"
     ]
    }
   ],
   "source": [
    "print(movie_1 == movie_2)"
   ]
  },
  {
   "cell_type": "markdown",
   "id": "26c4d2d1",
   "metadata": {},
   "source": [
    "執行結果如下，因為 movie_1 與 movie_2 不包含相同的鍵值對，所以會回傳 False。"
   ]
  },
  {
   "cell_type": "code",
   "execution_count": 49,
   "id": "737b4ce1",
   "metadata": {},
   "outputs": [
    {
     "name": "stdout",
     "output_type": "stream",
     "text": [
      "False\n"
     ]
    }
   ],
   "source": [
    "movie_1 = {'name': 'Saving Private Ryan',\n",
    "           'year': 1998,\n",
    "           'director': 'Steven Spielberg'}\n",
    "movie_2 = dict(name='The Breakfast Club',\n",
    "               year=1985, \n",
    "               director='John Hughes')\n",
    "movie_3 = {'name': 'Catch Me If You Can',\n",
    "           'year': 2002,\n",
    "           'director': 'Steven Spielberg'}\n",
    "print(movie_1==movie_3)"
   ]
  },
  {
   "cell_type": "markdown",
   "id": "55f561de",
   "metadata": {},
   "source": [
    "如果是兩個順序不同、但是內容一樣的字典呢?\n",
    "== 的判定不會在乎順序，只要內容相同的話，都會判定為 True。\n",
    "\n",
    "下面我們把 movie_1 的順序調換一下，創建一個新的 movie_4 來試試看。"
   ]
  },
  {
   "cell_type": "code",
   "execution_count": 50,
   "id": "80ac75a9",
   "metadata": {},
   "outputs": [
    {
     "name": "stdout",
     "output_type": "stream",
     "text": [
      "True\n"
     ]
    }
   ],
   "source": [
    "movie_1 = {'name':'Saving Private Ryan',\n",
    "           'year':1998,\n",
    "           'director':'Steven Spielberg'}\n",
    "movie_4 = { 'year':1998,\n",
    "            'name':'Saving Private Ryan',\n",
    "            'director':'Steven Spielberg'}\n",
    "print(movie_1==movie_4)"
   ]
  },
  {
   "cell_type": "markdown",
   "id": "eb9b2462",
   "metadata": {},
   "source": [
    "可以看到，順序不同的兩個字典，只要內容一樣的話，都會被判定成相同的東西。也由此可知 dictionary 是沒有順序性的喔。"
   ]
  },
  {
   "cell_type": "markdown",
   "id": "bd7bb0b5",
   "metadata": {},
   "source": [
    "如果想要知道兩個字典是否為同一個物件呢?\n",
    "is 運算子\n",
    "利用 is 運算子，則是可以判斷兩個字典是否為相同的物件。\n",
    "\n",
    "在本例子，movie_1 和 movie_4 雖然包含相同的 key — value，但卻是不同的物件(不同東西)。\n",
    "一般來說的使用方法如下:"
   ]
  },
  {
   "cell_type": "markdown",
   "id": "df5ab53c",
   "metadata": {},
   "source": [
    "dict1 is dict2"
   ]
  },
  {
   "cell_type": "markdown",
   "id": "2f5e0456",
   "metadata": {},
   "source": [
    "一樣拿movie_1 和 movie_4 的例子來說，程式碼如下:"
   ]
  },
  {
   "cell_type": "code",
   "execution_count": 52,
   "id": "fbfe58a5",
   "metadata": {},
   "outputs": [
    {
     "name": "stdout",
     "output_type": "stream",
     "text": [
      "False\n",
      "True\n"
     ]
    }
   ],
   "source": [
    "print(movie_1 is movie_4)\n",
    "print(movie_1 is movie_1)"
   ]
  },
  {
   "cell_type": "code",
   "execution_count": null,
   "id": "e005e988",
   "metadata": {},
   "outputs": [],
   "source": [
    "'''\n",
    "for key in dict:\n",
    "    print(key)\n",
    "    \n",
    "for key, value in dict.items():\n",
    "    print(key, value)\n",
    "    '''"
   ]
  },
  {
   "cell_type": "markdown",
   "id": "b66277be",
   "metadata": {},
   "source": [
    "以 movie_1 的例子來說，如果以我們平常使用迴圈的方式想要列印出字典中的內容的話，印出來的會是movie_1裡面的鍵值 (key)。\n",
    "\n"
   ]
  },
  {
   "cell_type": "code",
   "execution_count": 53,
   "id": "14caaea5",
   "metadata": {},
   "outputs": [
    {
     "name": "stdout",
     "output_type": "stream",
     "text": [
      "name\n",
      "year\n",
      "director\n"
     ]
    }
   ],
   "source": [
    "for key in movie_1:\n",
    "    print(key)"
   ]
  },
  {
   "cell_type": "code",
   "execution_count": 56,
   "id": "5e334a1b",
   "metadata": {},
   "outputs": [
    {
     "name": "stdout",
     "output_type": "stream",
     "text": [
      "name Saving Private Ryan\n",
      "year 1998\n",
      "director Steven Spielberg\n"
     ]
    }
   ],
   "source": [
    "for key,value in movie_1.items():\n",
    "    print(key,value)"
   ]
  },
  {
   "cell_type": "code",
   "execution_count": null,
   "id": "c956061f",
   "metadata": {},
   "outputs": [],
   "source": []
  }
 ],
 "metadata": {
  "kernelspec": {
   "display_name": "Python 3 (ipykernel)",
   "language": "python",
   "name": "python3"
  },
  "language_info": {
   "codemirror_mode": {
    "name": "ipython",
    "version": 3
   },
   "file_extension": ".py",
   "mimetype": "text/x-python",
   "name": "python",
   "nbconvert_exporter": "python",
   "pygments_lexer": "ipython3",
   "version": "3.11.5"
  }
 },
 "nbformat": 4,
 "nbformat_minor": 5
}
