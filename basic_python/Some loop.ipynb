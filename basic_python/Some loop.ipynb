{
 "cells": [
  {
   "cell_type": "markdown",
   "id": "d8b2759f",
   "metadata": {},
   "source": [
    "# if\n",
    "\n",
    "if *bool1*:\n",
    "\n",
    "    do something when *bool1* is True\n",
    "    \n",
    "elif *bool2*:\n",
    "\n",
    "    do something when *bool2* is True\n",
    "    \n",
    "else:\n",
    "\n",
    "    do something when *bool1* and *bool2* is False"
   ]
  },
  {
   "cell_type": "code",
   "execution_count": 9,
   "id": "b8db0e45",
   "metadata": {},
   "outputs": [
    {
     "name": "stdout",
     "output_type": "stream",
     "text": [
      ">> 20\n"
     ]
    }
   ],
   "source": [
    "x = input(\">> \")"
   ]
  },
  {
   "cell_type": "code",
   "execution_count": 6,
   "id": "b007c1e7",
   "metadata": {},
   "outputs": [],
   "source": [
    "x"
   ]
  },
  {
   "cell_type": "code",
   "execution_count": 7,
   "id": "28131fce",
   "metadata": {},
   "outputs": [],
   "source": [
    "x = int(x)"
   ]
  },
  {
   "cell_type": "code",
   "execution_count": 10,
   "id": "4889d253",
   "metadata": {},
   "outputs": [
    {
     "name": "stdout",
     "output_type": "stream",
     "text": [
      ">> 50\n"
     ]
    }
   ],
   "source": [
    "x = int(input(\">> \"))"
   ]
  },
  {
   "cell_type": "code",
   "execution_count": 14,
   "id": "1b7b645f",
   "metadata": {},
   "outputs": [
    {
     "name": "stdout",
     "output_type": "stream",
     "text": [
      "not small\n"
     ]
    }
   ],
   "source": [
    "if x > 100:\n",
    "    print(\"too large\")\n",
    "elif x >= 50:\n",
    "    print(\"not small\")\n",
    "else:\n",
    "    print(\"less than 50\")"
   ]
  },
  {
   "cell_type": "code",
   "execution_count": 16,
   "id": "48dffd91",
   "metadata": {},
   "outputs": [
    {
     "name": "stdout",
     "output_type": "stream",
     "text": [
      ">> 3215\n",
      "too large\n"
     ]
    }
   ],
   "source": [
    "x = int(input(\">> \"))\n",
    "if x > 100:\n",
    "    print(\"too large\")\n",
    "elif x >= 50:\n",
    "    print(\"not small\")\n",
    "else:\n",
    "    print(\"less than 50\")"
   ]
  },
  {
   "cell_type": "code",
   "execution_count": 18,
   "id": "0c22fc6b",
   "metadata": {},
   "outputs": [
    {
     "name": "stdout",
     "output_type": "stream",
     "text": [
      ">> hi\n",
      "Bye\n"
     ]
    }
   ],
   "source": [
    "x = input(\">> \")\n",
    "if x == \"Hi\":\n",
    "    print(\"Hey\")\n",
    "else:\n",
    "    print(\"Bye\")"
   ]
  },
  {
   "cell_type": "markdown",
   "id": "f2c5535e",
   "metadata": {},
   "source": [
    "---\n",
    "# while\n",
    "\n",
    "while *bool*:\n",
    "\n",
    "    do something while *bool* is True, do it again and again until *bool* is False"
   ]
  },
  {
   "cell_type": "code",
   "execution_count": 19,
   "id": "ddcacb33",
   "metadata": {},
   "outputs": [
    {
     "name": "stdout",
     "output_type": "stream",
     "text": [
      "n is  1\n",
      "n is  2\n",
      "n is  3\n"
     ]
    }
   ],
   "source": [
    "n = 1\n",
    "while n < 4:\n",
    "    print(\"n is \", n)\n",
    "    n += 1"
   ]
  },
  {
   "cell_type": "markdown",
   "id": "40ed4c4e",
   "metadata": {},
   "source": [
    "---\n",
    "# for\n",
    "\n",
    "for *var* in *sequence* (a list, a tuple, a dictionary, a set, or a string):\n",
    "\n",
    "    execute once for eah item in sequence    "
   ]
  },
  {
   "cell_type": "code",
   "execution_count": 20,
   "id": "4a6814e7",
   "metadata": {},
   "outputs": [
    {
     "name": "stdout",
     "output_type": "stream",
     "text": [
      "2\n",
      "3\n",
      "5\n",
      "9\n"
     ]
    }
   ],
   "source": [
    "for i in [2, 3, 5, 9]:\n",
    "    print(i)"
   ]
  },
  {
   "cell_type": "code",
   "execution_count": 21,
   "id": "9ea000ca",
   "metadata": {},
   "outputs": [
    {
     "name": "stdout",
     "output_type": "stream",
     "text": [
      "P\n",
      "y\n",
      "t\n",
      "h\n",
      "o\n",
      "n\n"
     ]
    }
   ],
   "source": [
    "for i in \"Python\":\n",
    "    print(i)"
   ]
  },
  {
   "cell_type": "code",
   "execution_count": 22,
   "id": "1e942927",
   "metadata": {},
   "outputs": [
    {
     "name": "stdout",
     "output_type": "stream",
     "text": [
      "0\n",
      "1\n",
      "2\n",
      "3\n",
      "4\n",
      "5\n",
      "6\n",
      "7\n",
      "8\n"
     ]
    }
   ],
   "source": [
    "for i in range(9): # not include 9\n",
    "    print(i)"
   ]
  },
  {
   "cell_type": "code",
   "execution_count": 23,
   "id": "b38463d6",
   "metadata": {},
   "outputs": [
    {
     "data": {
      "text/plain": [
       "range(0, 9)"
      ]
     },
     "execution_count": 23,
     "metadata": {},
     "output_type": "execute_result"
    }
   ],
   "source": [
    "range(9)"
   ]
  },
  {
   "cell_type": "markdown",
   "id": "8acbee94",
   "metadata": {},
   "source": [
    "# break"
   ]
  },
  {
   "cell_type": "code",
   "execution_count": 24,
   "id": "9d536556",
   "metadata": {
    "scrolled": true
   },
   "outputs": [
    {
     "name": "stdout",
     "output_type": "stream",
     "text": [
      "3\n"
     ]
    }
   ],
   "source": [
    "n = 1\n",
    "while n < 5:\n",
    "    if n == 3:\n",
    "        break\n",
    "    n += 1\n",
    "print(n)"
   ]
  },
  {
   "cell_type": "markdown",
   "id": "d4d4b423",
   "metadata": {},
   "source": [
    "# continue"
   ]
  },
  {
   "cell_type": "code",
   "execution_count": 26,
   "id": "14e02b00",
   "metadata": {},
   "outputs": [
    {
     "name": "stdout",
     "output_type": "stream",
     "text": [
      "1\n",
      "3\n",
      "5\n",
      "7\n",
      "9\n",
      "11\n",
      "13\n",
      "15\n",
      "17\n",
      "19\n"
     ]
    }
   ],
   "source": [
    "# n = 0\n",
    "for x in range(20):\n",
    "    if x % 2 == 0:\n",
    "        continue\n",
    "    print(x)"
   ]
  },
  {
   "cell_type": "markdown",
   "id": "e0da1d2a",
   "metadata": {},
   "source": [
    "---\n",
    "# Exercise\n",
    "make a bingo, you can click [here](https://ibible.hk/one/portal.php?mod=view&aid=16) to check the rule."
   ]
  },
  {
   "cell_type": "code",
   "execution_count": null,
   "id": "48f398a0",
   "metadata": {},
   "outputs": [],
   "source": [
    "import numpy as np\n",
    "bingo = np.random.randint(1, 99) # random int from 1 to 99"
   ]
  },
  {
   "cell_type": "code",
   "execution_count": null,
   "id": "7ebcf57f",
   "metadata": {},
   "outputs": [],
   "source": []
  }
 ],
 "metadata": {
  "kernelspec": {
   "display_name": "Python 3 (ipykernel)",
   "language": "python",
   "name": "python3"
  },
  "language_info": {
   "codemirror_mode": {
    "name": "ipython",
    "version": 3
   },
   "file_extension": ".py",
   "mimetype": "text/x-python",
   "name": "python",
   "nbconvert_exporter": "python",
   "pygments_lexer": "ipython3",
   "version": "3.11.4"
  }
 },
 "nbformat": 4,
 "nbformat_minor": 5
}
