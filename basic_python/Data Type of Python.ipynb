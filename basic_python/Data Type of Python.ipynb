{
 "cells": [
  {
   "cell_type": "markdown",
   "id": "6c501f46",
   "metadata": {},
   "source": [
    "# Data Types on Python"
   ]
  },
  {
   "cell_type": "markdown",
   "id": "4202809f",
   "metadata": {},
   "source": [
    "## 1. Integers"
   ]
  },
  {
   "cell_type": "code",
   "execution_count": null,
   "id": "99ebffb5",
   "metadata": {},
   "outputs": [],
   "source": [
    "x = 32132135131321"
   ]
  },
  {
   "cell_type": "code",
   "execution_count": null,
   "id": "4ac7b058",
   "metadata": {},
   "outputs": [],
   "source": [
    "x?"
   ]
  },
  {
   "cell_type": "markdown",
   "id": "815ee8fc",
   "metadata": {},
   "source": [
    "## 2. Floating Point 浮點數"
   ]
  },
  {
   "cell_type": "code",
   "execution_count": 1,
   "id": "70125b07",
   "metadata": {},
   "outputs": [],
   "source": [
    "y = 3.2"
   ]
  },
  {
   "cell_type": "code",
   "execution_count": 2,
   "id": "b29e19f1",
   "metadata": {},
   "outputs": [],
   "source": [
    "y?"
   ]
  },
  {
   "cell_type": "markdown",
   "id": "f42bd3ee",
   "metadata": {},
   "source": [
    "## 3. Strings 字串"
   ]
  },
  {
   "cell_type": "code",
   "execution_count": 3,
   "id": "72b87510",
   "metadata": {},
   "outputs": [],
   "source": [
    "a = \"I am string\""
   ]
  },
  {
   "cell_type": "code",
   "execution_count": 4,
   "id": "e73638e6",
   "metadata": {},
   "outputs": [],
   "source": [
    "a?"
   ]
  },
  {
   "cell_type": "code",
   "execution_count": 5,
   "id": "4b96a84b",
   "metadata": {},
   "outputs": [],
   "source": [
    "a_2 = '中文都得'"
   ]
  },
  {
   "cell_type": "code",
   "execution_count": 6,
   "id": "a8bf8bea",
   "metadata": {},
   "outputs": [],
   "source": [
    "a_2?"
   ]
  },
  {
   "cell_type": "markdown",
   "id": "39ff975a",
   "metadata": {},
   "source": [
    "## 4. Boolean 布林值 True = 1, False = 0"
   ]
  },
  {
   "cell_type": "code",
   "execution_count": 7,
   "id": "1b7b2f6b",
   "metadata": {},
   "outputs": [],
   "source": [
    "i = True"
   ]
  },
  {
   "cell_type": "code",
   "execution_count": 8,
   "id": "7f33fe8e",
   "metadata": {},
   "outputs": [],
   "source": [
    "i?"
   ]
  },
  {
   "cell_type": "code",
   "execution_count": 9,
   "id": "2eed4f5d",
   "metadata": {},
   "outputs": [
    {
     "data": {
      "text/plain": [
       "2"
      ]
     },
     "execution_count": 9,
     "metadata": {},
     "output_type": "execute_result"
    }
   ],
   "source": [
    "i + 1"
   ]
  },
  {
   "cell_type": "markdown",
   "id": "66b5e4c7",
   "metadata": {},
   "source": [
    "## 5. List (very useful)\n",
    "An ordered sequence of items is called List. (flexible data)"
   ]
  },
  {
   "cell_type": "code",
   "execution_count": 16,
   "id": "da184fbc",
   "metadata": {},
   "outputs": [],
   "source": [
    "my_list = [2, 3.4, \"string\"] # The element inside list can be int., float, str. or list."
   ]
  },
  {
   "cell_type": "code",
   "execution_count": 15,
   "id": "7fed550e",
   "metadata": {},
   "outputs": [
    {
     "data": {
      "text/plain": [
       "3.4"
      ]
     },
     "execution_count": 15,
     "metadata": {},
     "output_type": "execute_result"
    }
   ],
   "source": [
    "my_list[1]"
   ]
  },
  {
   "cell_type": "markdown",
   "id": "f98125c7",
   "metadata": {},
   "source": [
    "# 6. Tuple\n",
    "Like list but unflexible."
   ]
  },
  {
   "cell_type": "code",
   "execution_count": 17,
   "id": "450a7065",
   "metadata": {},
   "outputs": [],
   "source": [
    "my_tuple = (6, \"字串\", 4+2)"
   ]
  },
  {
   "cell_type": "code",
   "execution_count": 18,
   "id": "67680392",
   "metadata": {},
   "outputs": [
    {
     "data": {
      "text/plain": [
       "6"
      ]
     },
     "execution_count": 18,
     "metadata": {},
     "output_type": "execute_result"
    }
   ],
   "source": [
    "my_tuple[2]"
   ]
  },
  {
   "cell_type": "markdown",
   "id": "43df08b0",
   "metadata": {},
   "source": [
    "# 7. Set\n",
    "Collection of unique items that are not in order"
   ]
  },
  {
   "cell_type": "code",
   "execution_count": 19,
   "id": "fecaa6c8",
   "metadata": {},
   "outputs": [],
   "source": [
    "my_set = {3, 2, \"b\", 'a', 3, 'b'}"
   ]
  },
  {
   "cell_type": "code",
   "execution_count": 20,
   "id": "3e85ad7d",
   "metadata": {},
   "outputs": [
    {
     "data": {
      "text/plain": [
       "{2, 3, 'a', 'b'}"
      ]
     },
     "execution_count": 20,
     "metadata": {},
     "output_type": "execute_result"
    }
   ],
   "source": [
    "my_set"
   ]
  },
  {
   "cell_type": "markdown",
   "id": "5c588a28",
   "metadata": {},
   "source": [
    "# 8. Dictionary( Useful too)\n",
    "Key-Value pairs."
   ]
  },
  {
   "cell_type": "code",
   "execution_count": 21,
   "id": "9bc8f801",
   "metadata": {},
   "outputs": [],
   "source": [
    "my_dic = {\n",
    "    \"name\":\"Raymond\", \n",
    "    \"age\":18\n",
    "    }"
   ]
  },
  {
   "cell_type": "code",
   "execution_count": 23,
   "id": "3419c2ed",
   "metadata": {},
   "outputs": [
    {
     "data": {
      "text/plain": [
       "'Raymond'"
      ]
     },
     "execution_count": 23,
     "metadata": {},
     "output_type": "execute_result"
    }
   ],
   "source": [
    "my_dic[\"name\"] # ksdj,mcnvaigalkgadnga;eihkjer034tu"
   ]
  },
  {
   "cell_type": "markdown",
   "id": "89cec75e",
   "metadata": {},
   "source": [
    "# Remember: Always write command as you are a fool\n",
    "Notebook Markdown can use $\\LaTeX$\n",
    "\n",
    "You can write a formula like $V = \\dfrac{4}{3} \\pi r^3$"
   ]
  },
  {
   "cell_type": "markdown",
   "id": "708f0e38",
   "metadata": {},
   "source": [
    "# Bigger text\n",
    "## big text\n",
    "normal text"
   ]
  },
  {
   "cell_type": "code",
   "execution_count": null,
   "id": "f843af09",
   "metadata": {},
   "outputs": [],
   "source": []
  }
 ],
 "metadata": {
  "kernelspec": {
   "display_name": "Python 3 (ipykernel)",
   "language": "python",
   "name": "python3"
  },
  "language_info": {
   "codemirror_mode": {
    "name": "ipython",
    "version": 3
   },
   "file_extension": ".py",
   "mimetype": "text/x-python",
   "name": "python",
   "nbconvert_exporter": "python",
   "pygments_lexer": "ipython3",
   "version": "3.11.4"
  }
 },
 "nbformat": 4,
 "nbformat_minor": 5
}
