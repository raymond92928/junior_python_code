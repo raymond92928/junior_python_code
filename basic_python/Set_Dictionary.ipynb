{
 "cells": [
  {
   "cell_type": "markdown",
   "id": "dbea1c90",
   "metadata": {},
   "source": [
    "# Set"
   ]
  },
  {
   "cell_type": "markdown",
   "id": "f009b7ce",
   "metadata": {},
   "source": [
    "## use \"in\" to check if element belongs to Set"
   ]
  },
  {
   "cell_type": "code",
   "execution_count": 1,
   "id": "2886438f",
   "metadata": {},
   "outputs": [],
   "source": [
    "my_set = {2, 3, 4}"
   ]
  },
  {
   "cell_type": "code",
   "execution_count": 2,
   "id": "ae8ed5d0",
   "metadata": {},
   "outputs": [
    {
     "data": {
      "text/plain": [
       "True"
      ]
     },
     "execution_count": 2,
     "metadata": {},
     "output_type": "execute_result"
    }
   ],
   "source": [
    "2 in my_set"
   ]
  },
  {
   "cell_type": "code",
   "execution_count": 3,
   "id": "c1b8cfd8",
   "metadata": {
    "scrolled": true
   },
   "outputs": [
    {
     "data": {
      "text/plain": [
       "False"
      ]
     },
     "execution_count": 3,
     "metadata": {},
     "output_type": "execute_result"
    }
   ],
   "source": [
    "4 not in my_set"
   ]
  },
  {
   "cell_type": "markdown",
   "id": "197a17c1",
   "metadata": {},
   "source": [
    "## Unions, Intersections, Complements and Symmetric difference"
   ]
  },
  {
   "cell_type": "code",
   "execution_count": 4,
   "id": "b90d787a",
   "metadata": {},
   "outputs": [],
   "source": [
    "my_set = {2, 3, 4}\n",
    "my_set2 = {2, 4, 6}"
   ]
  },
  {
   "cell_type": "code",
   "execution_count": 5,
   "id": "83c0bc45",
   "metadata": {},
   "outputs": [
    {
     "data": {
      "text/plain": [
       "{2, 3, 4, 6}"
      ]
     },
     "execution_count": 5,
     "metadata": {},
     "output_type": "execute_result"
    }
   ],
   "source": [
    "my_set | my_set2 # or "
   ]
  },
  {
   "cell_type": "code",
   "execution_count": 6,
   "id": "0d36340e",
   "metadata": {},
   "outputs": [
    {
     "data": {
      "text/plain": [
       "{2, 4}"
      ]
     },
     "execution_count": 6,
     "metadata": {},
     "output_type": "execute_result"
    }
   ],
   "source": [
    "my_set & my_set2 # and"
   ]
  },
  {
   "cell_type": "code",
   "execution_count": 7,
   "id": "7a1aab05",
   "metadata": {},
   "outputs": [
    {
     "data": {
      "text/plain": [
       "{3}"
      ]
     },
     "execution_count": 7,
     "metadata": {},
     "output_type": "execute_result"
    }
   ],
   "source": [
    "my_set - my_set2 # 差集 my-set - (my_set & my_set2)"
   ]
  },
  {
   "cell_type": "code",
   "execution_count": 8,
   "id": "fabb2cbf",
   "metadata": {},
   "outputs": [
    {
     "data": {
      "text/plain": [
       "{3, 6}"
      ]
     },
     "execution_count": 8,
     "metadata": {},
     "output_type": "execute_result"
    }
   ],
   "source": [
    "my_set ^ my_set2 # NAND"
   ]
  },
  {
   "cell_type": "markdown",
   "id": "d49b1e01",
   "metadata": {},
   "source": [
    "# Dictionary"
   ]
  },
  {
   "cell_type": "code",
   "execution_count": 9,
   "id": "dbbc005c",
   "metadata": {},
   "outputs": [],
   "source": [
    "my_dic = {\n",
    "    \"Name\": \"Raymond\", \n",
    "    \"age\": 18\n",
    "    }"
   ]
  },
  {
   "cell_type": "code",
   "execution_count": 10,
   "id": "d80cd465",
   "metadata": {},
   "outputs": [
    {
     "data": {
      "text/plain": [
       "'Raymond'"
      ]
     },
     "execution_count": 10,
     "metadata": {},
     "output_type": "execute_result"
    }
   ],
   "source": [
    "my_dic[\"Name\"]"
   ]
  },
  {
   "cell_type": "code",
   "execution_count": 11,
   "id": "9694958c",
   "metadata": {},
   "outputs": [],
   "source": [
    "my_dic[\"Name\"] = \"Jack\""
   ]
  },
  {
   "cell_type": "code",
   "execution_count": 12,
   "id": "7e07ab66",
   "metadata": {},
   "outputs": [
    {
     "data": {
      "text/plain": [
       "{'Name': 'Jack', 'age': 18}"
      ]
     },
     "execution_count": 12,
     "metadata": {},
     "output_type": "execute_result"
    }
   ],
   "source": [
    "my_dic"
   ]
  },
  {
   "cell_type": "code",
   "execution_count": 13,
   "id": "77a77fe8",
   "metadata": {},
   "outputs": [
    {
     "data": {
      "text/plain": [
       "True"
      ]
     },
     "execution_count": 13,
     "metadata": {},
     "output_type": "execute_result"
    }
   ],
   "source": [
    "\"Name\" in my_dic # check keys"
   ]
  },
  {
   "cell_type": "markdown",
   "id": "b28aeb41",
   "metadata": {},
   "source": [
    "# Use \"del\" to delete"
   ]
  },
  {
   "cell_type": "code",
   "execution_count": 14,
   "id": "11bae617",
   "metadata": {},
   "outputs": [
    {
     "data": {
      "text/plain": [
       "{'Name': 'Jack', 'age': 18}"
      ]
     },
     "execution_count": 14,
     "metadata": {},
     "output_type": "execute_result"
    }
   ],
   "source": [
    "my_dic"
   ]
  },
  {
   "cell_type": "code",
   "execution_count": 15,
   "id": "2b6d2df7",
   "metadata": {},
   "outputs": [],
   "source": [
    "del my_dic[\"age\"]"
   ]
  },
  {
   "cell_type": "code",
   "execution_count": 16,
   "id": "3521b38c",
   "metadata": {},
   "outputs": [
    {
     "data": {
      "text/plain": [
       "{'Name': 'Jack'}"
      ]
     },
     "execution_count": 16,
     "metadata": {},
     "output_type": "execute_result"
    }
   ],
   "source": [
    "my_dic"
   ]
  },
  {
   "cell_type": "markdown",
   "id": "13b21938",
   "metadata": {},
   "source": [
    "# Add"
   ]
  },
  {
   "cell_type": "code",
   "execution_count": 17,
   "id": "4b795d12",
   "metadata": {},
   "outputs": [],
   "source": [
    "my_dic[\"age\"] = 25"
   ]
  },
  {
   "cell_type": "code",
   "execution_count": 18,
   "id": "27cd7cb8",
   "metadata": {},
   "outputs": [
    {
     "data": {
      "text/plain": [
       "{'Name': 'Jack', 'age': 25}"
      ]
     },
     "execution_count": 18,
     "metadata": {},
     "output_type": "execute_result"
    }
   ],
   "source": [
    "my_dic"
   ]
  },
  {
   "cell_type": "code",
   "execution_count": 19,
   "id": "fed9b5fa",
   "metadata": {},
   "outputs": [],
   "source": [
    "my_dic[\"age\"] = 52"
   ]
  },
  {
   "cell_type": "code",
   "execution_count": 20,
   "id": "7e1d55a3",
   "metadata": {},
   "outputs": [
    {
     "data": {
      "text/plain": [
       "{'Name': 'Jack', 'age': 52}"
      ]
     },
     "execution_count": 20,
     "metadata": {},
     "output_type": "execute_result"
    }
   ],
   "source": [
    "my_dic"
   ]
  },
  {
   "cell_type": "code",
   "execution_count": null,
   "id": "17d5863d",
   "metadata": {},
   "outputs": [],
   "source": []
  }
 ],
 "metadata": {
  "kernelspec": {
   "display_name": "Python 3 (ipykernel)",
   "language": "python",
   "name": "python3"
  },
  "language_info": {
   "codemirror_mode": {
    "name": "ipython",
    "version": 3
   },
   "file_extension": ".py",
   "mimetype": "text/x-python",
   "name": "python",
   "nbconvert_exporter": "python",
   "pygments_lexer": "ipython3",
   "version": "3.11.4"
  }
 },
 "nbformat": 4,
 "nbformat_minor": 5
}
