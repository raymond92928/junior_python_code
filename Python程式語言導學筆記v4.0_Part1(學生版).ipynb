{
 "cells": [
  {
   "cell_type": "markdown",
   "metadata": {},
   "source": [
    "# Python程式語言導學筆記v4.0_Part1"
   ]
  },
  {
   "cell_type": "markdown",
   "metadata": {},
   "source": [
    "## Python裡的基礎運算\n",
    "## 知識點：賦值=　　加+　　減-　　乘*　　除/　　商//　　餘%　　乘方**"
   ]
  },
  {
   "cell_type": "code",
   "execution_count": 2,
   "metadata": {
    "scrolled": true
   },
   "outputs": [
    {
     "name": "stdout",
     "output_type": "stream",
     "text": [
      "13\n",
      "7\n",
      "30\n",
      "3.3333333333333335\n",
      "-------------------\n",
      "1000\n",
      "3\n",
      "1\n"
     ]
    }
   ],
   "source": [
    "# Python裡的基礎運算符號用法\n",
    "\n",
    "# 賦值\n",
    "a = 10\n",
    "b = 3\n",
    "c = a-b\n",
    "\n",
    "print(a + b)\n",
    "print(c)\n",
    "print(a * b)\n",
    "print(a / b)\n",
    "print(\"--------------------------\")\n",
    "print(a ** b)\n",
    "print(a // b)\n",
    "print(a % b)\n"
   ]
  },
  {
   "cell_type": "markdown",
   "metadata": {},
   "source": [
    "## 例子：試利用編程計算出以下代數式的值"
   ]
  },
  {
   "cell_type": "markdown",
   "metadata": {},
   "source": [
    "<img src=\"https://i.ibb.co/RYd6LMc/001.png\">"
   ]
  },
  {
   "cell_type": "code",
   "execution_count": 6,
   "metadata": {},
   "outputs": [
    {
     "name": "stdout",
     "output_type": "stream",
     "text": [
      "-21\n"
     ]
    }
   ],
   "source": [
    "# start programming\n",
    "\n",
    "\n",
    "# end programming"
   ]
  },
  {
   "cell_type": "markdown",
   "metadata": {},
   "source": [
    "<img src=\"https://i.ibb.co/9wDLnCr/003.png\">"
   ]
  },
  {
   "cell_type": "code",
   "execution_count": 8,
   "metadata": {},
   "outputs": [
    {
     "name": "stdout",
     "output_type": "stream",
     "text": [
      "-9.0\n"
     ]
    }
   ],
   "source": [
    "# start programming\n",
    "\n",
    "\n",
    "# end programming"
   ]
  },
  {
   "cell_type": "markdown",
   "metadata": {},
   "source": [
    "## 知識點：print()、\\t、\\n、sep、end、\\"
   ]
  },
  {
   "cell_type": "code",
   "execution_count": 53,
   "metadata": {
    "scrolled": false
   },
   "outputs": [
    {
     "name": "stdout",
     "output_type": "stream",
     "text": [
      "1. hi my friends\n",
      "2. hi my friends\n",
      "3. himyfriends\n",
      "4. hi my friends\n",
      "5. hi#my#friends\n",
      "6. hi000my000friends\n",
      "7. hi my friends\n",
      "8.\thi\tmy\tfriends\n",
      "9.\n",
      "hi\n",
      "my\n",
      "friends\n",
      "10. hi my friends%%%%%%11. hi my friends\n"
     ]
    }
   ],
   "source": [
    "print('1. hi my friends')\n",
    "print('2. hi' , 'my' , 'friends')                # print()中逗號的作用默認是一個空格;\n",
    "print('3. hi' + 'my' + 'friends')                # 對字符串「相加」，即合併字符串。注意「相加」只可用於同資料類型的數據;\n",
    "print('4. hi' , 'my' , 'friends' , sep = ' ')    # sep 有改變逗號的作用;\n",
    "print('5. hi' , 'my' , 'friends' , sep = '#')\n",
    "print('6. hi' , 'my' , 'friends' , sep = '000')\n",
    "print('7. hi' , 'my' \\\n",
    "      ,'friends')                                # 「/」的作用僅為分行顯示，不會影響程式碼的執行;\n",
    "print('8.\\thi\\tmy\\tfriends')                     # 「\\t」相當於 tab鍵縮排 的作用\n",
    "print('9.\\nhi\\nmy\\nfriends')                     # 「\\n」相當於 隔行 的作用\n",
    "print('10. hi my friends' , end = \"%%%%%%\")      # end 有改變print()結尾的作用，print()的end默認是「\\n」隔行;\n",
    "print('11. hi my friends')"
   ]
  },
  {
   "cell_type": "markdown",
   "metadata": {},
   "source": [
    "## 練習：OJ a268 打印表格\n",
    "#### 只用一個print()，配合 「\\t、\\n、sep、\\」，編寫一行程式碼以顯示下列表格：\n",
    "#### http://zero1.puiching.edu.mo/ShowProblem?problemid=a268"
   ]
  },
  {
   "cell_type": "code",
   "execution_count": 1,
   "metadata": {
    "scrolled": true
   },
   "outputs": [
    {
     "name": "stdout",
     "output_type": "stream",
     "text": [
      "某帳戶存摺\n",
      "日期\t\t支出\t\t收入\t\t結存\n",
      "2019/11/26\t0.00\t\t130.00\t\t2019.00\n"
     ]
    }
   ],
   "source": [
    "# 表格範例輸出如下，請勿執行此區塊!!!"
   ]
  },
  {
   "cell_type": "code",
   "execution_count": 2,
   "metadata": {},
   "outputs": [],
   "source": [
    "# start programming\n",
    "\n",
    "\n",
    "\n",
    "\n",
    "\n",
    "\n",
    "\n",
    "# end programming"
   ]
  },
  {
   "cell_type": "code",
   "execution_count": null,
   "metadata": {},
   "outputs": [],
   "source": []
  },
  {
   "cell_type": "code",
   "execution_count": null,
   "metadata": {},
   "outputs": [],
   "source": []
  },
  {
   "cell_type": "code",
   "execution_count": null,
   "metadata": {},
   "outputs": [],
   "source": []
  },
  {
   "cell_type": "code",
   "execution_count": 1,
   "metadata": {
    "scrolled": true
   },
   "outputs": [
    {
     "name": "stdout",
     "output_type": "stream",
     "text": [
      "某帳戶存摺\n",
      "日期\t\t支出\t\t收入\t\t結存\n",
      "2019/11/26\t0.00\t\t130.00\t\t2019.00\n"
     ]
    }
   ],
   "source": [
    "# 參考答案\n",
    "\n",
    "print(\"某帳戶存摺\\n日期\\t\\t支出\\t\\t收入\\t\\t結存\\n2019/11/26\\t0.00\\t\\t130.00\\t\\t2019.00\")"
   ]
  },
  {
   "cell_type": "markdown",
   "metadata": {},
   "source": [
    "## 知識點：輸入input()、整數int()、小數float()、字串文字str()"
   ]
  },
  {
   "cell_type": "code",
   "execution_count": 26,
   "metadata": {
    "scrolled": true
   },
   "outputs": [
    {
     "name": "stdout",
     "output_type": "stream",
     "text": [
      "3.33333333\n",
      "3\n",
      "3.33333333\n",
      "6.66666666\n",
      "6\n",
      "6.66666666\n"
     ]
    }
   ],
   "source": [
    "num = 3.33333333\n",
    "print( str(num) )    # 資料類型改變為string字符串;\n",
    "print( int(num) )    # 資料類型改變為integer整數，若本身含有小數則捨棄小數部分;\n",
    "print( float(num) )  # 資料類型改變為float浮點數;\n",
    "\n",
    "num = 6.66666666\n",
    "print( str(num) )\n",
    "print( int(num) )\n",
    "print( float(num) )"
   ]
  },
  {
   "cell_type": "markdown",
   "metadata": {},
   "source": [
    "## 知識點：f-string格式處理、小數點 round()"
   ]
  },
  {
   "cell_type": "code",
   "execution_count": 4,
   "metadata": {
    "scrolled": true
   },
   "outputs": [
    {
     "name": "stdout",
     "output_type": "stream",
     "text": [
      "3.141592653589793\n",
      "圓周率約為x\n",
      "圓周率約為3.141592653589793\n",
      "3.14159\n",
      "3.14159\n",
      "3\n"
     ]
    }
   ],
   "source": [
    "x = 3.141592653589793\n",
    "\n",
    "print(x)\n",
    "print('圓周率約為x')\n",
    "print(f'圓周率約為{x}')\n",
    "\n",
    "# 方法一(取小數點後五位)：\n",
    "x1 = round(x,5)             # round()的使用方法一：放置兩個參數，第一個參數為需要處理的數值，第二個參數為精度\n",
    "print(x1)\n",
    "\n",
    "# 方法二(取小數點後五位)：\n",
    "x2 = f'{x:.5f}'\n",
    "print(x2)\n",
    "\n",
    "# 四寫五入取整數\n",
    "x3 = round(x)              # round()的使用方法二：只放置一個參數，為需要處理的數值，此時round()作用是將其四寫五入取整數\n",
    "print(x3)"
   ]
  },
  {
   "cell_type": "code",
   "execution_count": 8,
   "metadata": {},
   "outputs": [
    {
     "name": "stdout",
     "output_type": "stream",
     "text": [
      "100\n",
      "1\n",
      "1\n"
     ]
    }
   ],
   "source": [
    "# 輸入範例一\n",
    "x = input()\n",
    "print(x)"
   ]
  },
  {
   "cell_type": "code",
   "execution_count": 3,
   "metadata": {
    "scrolled": true
   },
   "outputs": [
    {
     "name": "stdout",
     "output_type": "stream",
     "text": [
      "請問「床前明月光」，下一句是甚麼？213\n",
      "床前明月光，213\n"
     ]
    }
   ],
   "source": [
    "# 輸入範例二\n",
    "x = input('請問「床前明月光」，下一句是甚麼？')\n",
    "print(f'床前明月光，{x}')"
   ]
  },
  {
   "cell_type": "code",
   "execution_count": 2,
   "metadata": {},
   "outputs": [
    {
     "name": "stdout",
     "output_type": "stream",
     "text": [
      "請輸入一個整數數值：10\n",
      "10的兩倍是20\n"
     ]
    }
   ],
   "source": [
    "# 輸入範例三\n",
    "x = int(input('請輸入一個整數數值：'))\n",
    "y = x*2\n",
    "print(f'{x}的兩倍是{y}')"
   ]
  },
  {
   "cell_type": "code",
   "execution_count": 5,
   "metadata": {},
   "outputs": [
    {
     "name": "stdout",
     "output_type": "stream",
     "text": [
      "a = 10\n",
      "b = 20\n"
     ]
    },
    {
     "ename": "TypeError",
     "evalue": "can't multiply sequence by non-int of type 'str'",
     "output_type": "error",
     "traceback": [
      "\u001b[1;31m---------------------------------------------------------------------------\u001b[0m",
      "\u001b[1;31mTypeError\u001b[0m                                 Traceback (most recent call last)",
      "\u001b[1;32m<ipython-input-5-7798a4c02959>\u001b[0m in \u001b[0;36m<module>\u001b[1;34m\u001b[0m\n\u001b[0;32m      3\u001b[0m \u001b[0ma\u001b[0m \u001b[1;33m=\u001b[0m \u001b[0minput\u001b[0m\u001b[1;33m(\u001b[0m\u001b[1;34m\"a = \"\u001b[0m\u001b[1;33m)\u001b[0m\u001b[1;33m\u001b[0m\u001b[1;33m\u001b[0m\u001b[0m\n\u001b[0;32m      4\u001b[0m \u001b[0mb\u001b[0m \u001b[1;33m=\u001b[0m \u001b[0minput\u001b[0m\u001b[1;33m(\u001b[0m\u001b[1;34m\"b = \"\u001b[0m\u001b[1;33m)\u001b[0m\u001b[1;33m\u001b[0m\u001b[1;33m\u001b[0m\u001b[0m\n\u001b[1;32m----> 5\u001b[1;33m \u001b[0mc\u001b[0m \u001b[1;33m=\u001b[0m \u001b[0ma\u001b[0m\u001b[1;33m*\u001b[0m\u001b[0mb\u001b[0m\u001b[1;33m\u001b[0m\u001b[1;33m\u001b[0m\u001b[0m\n\u001b[0m\u001b[0;32m      6\u001b[0m \u001b[0mprint\u001b[0m\u001b[1;33m(\u001b[0m\u001b[1;34mf'c = {c}'\u001b[0m\u001b[1;33m)\u001b[0m\u001b[1;33m\u001b[0m\u001b[1;33m\u001b[0m\u001b[0m\n",
      "\u001b[1;31mTypeError\u001b[0m: can't multiply sequence by non-int of type 'str'"
     ]
    }
   ],
   "source": [
    "# 請同學找出哪裡有錯\n",
    "a = input('a = ')\n",
    "b = input('b = ')\n",
    "c = a * b\n",
    "print(f'c = {c}')"
   ]
  },
  {
   "cell_type": "code",
   "execution_count": 6,
   "metadata": {},
   "outputs": [
    {
     "name": "stdout",
     "output_type": "stream",
     "text": [
      "a = 10\n",
      "b = 20\n",
      "c = 200\n"
     ]
    }
   ],
   "source": [
    "# 程式碼更正\n",
    "a = int(input('a = '))\n",
    "b = int(input('b = '))\n",
    "c = a * b\n",
    "print(f'c = {c}')"
   ]
  },
  {
   "cell_type": "markdown",
   "metadata": {},
   "source": [
    "## 練習：OJ a052 輸入與輸出\n",
    "#### 編寫一個程式，用戶可以輸入任意的字串，系統將輸出「hello, 」和剛才輸入的字串。\n",
    "#### http://zero1.puiching.edu.mo/ShowProblem?problemid=a052"
   ]
  },
  {
   "cell_type": "code",
   "execution_count": null,
   "metadata": {},
   "outputs": [],
   "source": [
    "# Start programming\n",
    "\n",
    "\n",
    "\n",
    "\n",
    "\n",
    "\n",
    "# End programming"
   ]
  },
  {
   "cell_type": "code",
   "execution_count": null,
   "metadata": {},
   "outputs": [],
   "source": []
  },
  {
   "cell_type": "code",
   "execution_count": null,
   "metadata": {},
   "outputs": [],
   "source": []
  },
  {
   "cell_type": "code",
   "execution_count": null,
   "metadata": {},
   "outputs": [],
   "source": []
  },
  {
   "cell_type": "code",
   "execution_count": null,
   "metadata": {},
   "outputs": [],
   "source": []
  },
  {
   "cell_type": "code",
   "execution_count": null,
   "metadata": {},
   "outputs": [],
   "source": []
  },
  {
   "cell_type": "code",
   "execution_count": null,
   "metadata": {},
   "outputs": [],
   "source": []
  },
  {
   "cell_type": "code",
   "execution_count": null,
   "metadata": {},
   "outputs": [],
   "source": []
  },
  {
   "cell_type": "code",
   "execution_count": null,
   "metadata": {},
   "outputs": [],
   "source": []
  },
  {
   "cell_type": "code",
   "execution_count": null,
   "metadata": {},
   "outputs": [],
   "source": []
  },
  {
   "cell_type": "code",
   "execution_count": null,
   "metadata": {},
   "outputs": [],
   "source": []
  },
  {
   "cell_type": "code",
   "execution_count": 8,
   "metadata": {},
   "outputs": [
    {
     "name": "stdout",
     "output_type": "stream",
     "text": [
      "天航\n",
      "hello, 天航\n",
      "天航\n",
      "hello, 天航\n"
     ]
    }
   ],
   "source": [
    "# 參答答案\n",
    "\n",
    "x = input()\n",
    "print(f'hello, {x}')\n",
    "\n",
    "# 或者\n",
    "print(f'hello, {input()}')\n"
   ]
  },
  {
   "cell_type": "markdown",
   "metadata": {},
   "source": [
    "## 練習：OJ a062 製作「正方形面積」計算器\n",
    "#### 輸入正方形之邊長(可小數)，輸出正方形面積(數值精確至小數點後一位)\n",
    "#### http://zero1.puiching.edu.mo/ShowProblem?problemid=a062"
   ]
  },
  {
   "cell_type": "code",
   "execution_count": 72,
   "metadata": {},
   "outputs": [],
   "source": [
    "# Start programming\n",
    "\n",
    "\n",
    "\n",
    "\n",
    "\n",
    "# End programming"
   ]
  },
  {
   "cell_type": "code",
   "execution_count": null,
   "metadata": {},
   "outputs": [],
   "source": []
  },
  {
   "cell_type": "code",
   "execution_count": null,
   "metadata": {},
   "outputs": [],
   "source": []
  },
  {
   "cell_type": "code",
   "execution_count": null,
   "metadata": {},
   "outputs": [],
   "source": []
  },
  {
   "cell_type": "code",
   "execution_count": null,
   "metadata": {},
   "outputs": [],
   "source": []
  },
  {
   "cell_type": "code",
   "execution_count": null,
   "metadata": {},
   "outputs": [],
   "source": []
  },
  {
   "cell_type": "code",
   "execution_count": null,
   "metadata": {},
   "outputs": [],
   "source": []
  },
  {
   "cell_type": "code",
   "execution_count": null,
   "metadata": {},
   "outputs": [],
   "source": []
  },
  {
   "cell_type": "code",
   "execution_count": null,
   "metadata": {},
   "outputs": [],
   "source": []
  },
  {
   "cell_type": "code",
   "execution_count": null,
   "metadata": {},
   "outputs": [],
   "source": []
  },
  {
   "cell_type": "code",
   "execution_count": null,
   "metadata": {},
   "outputs": [],
   "source": []
  },
  {
   "cell_type": "code",
   "execution_count": 3,
   "metadata": {},
   "outputs": [
    {
     "name": "stdout",
     "output_type": "stream",
     "text": [
      "7\n",
      "49.0\n"
     ]
    }
   ],
   "source": [
    "# 參答答案\n",
    "\n",
    "side = float(input())\n",
    "area = round(side**2, 1)\n",
    "print(area)"
   ]
  },
  {
   "cell_type": "markdown",
   "metadata": {},
   "source": [
    "## 練習：OJ a053 製作「華氏度到攝氏度轉換器」\n",
    "#### 用戶輸入華氏度數，程式便能轉換並輸出攝氏度數 (精準至小數點後兩位數)\n",
    "#### 轉換公式：°C =（°F-32）×5/9\n",
    "#### http://zero1.puiching.edu.mo/ShowProblem?problemid=a053"
   ]
  },
  {
   "cell_type": "code",
   "execution_count": 71,
   "metadata": {},
   "outputs": [],
   "source": [
    "# start programming\n",
    "\n",
    "\n",
    "\n",
    "\n",
    "\n",
    "# end programming"
   ]
  },
  {
   "cell_type": "markdown",
   "metadata": {},
   "source": [
    "## 練習：OJ a063 製作「簡單除法計算器」\n",
    "#### 用戶輸入被除數(整數)、除數(非零整數)，程式便能輸出「(被除數) 除以 (除數) 的答案為：(商數) ... (餘數)」\n",
    "#### http://zero1.puiching.edu.mo/ShowProblem?problemid=a063"
   ]
  },
  {
   "cell_type": "code",
   "execution_count": 6,
   "metadata": {},
   "outputs": [],
   "source": [
    "# start programming\n",
    "\n",
    "\n",
    "\n",
    "\n",
    "\n",
    "# end programming"
   ]
  },
  {
   "cell_type": "markdown",
   "metadata": {},
   "source": [
    "## 知識點：列表 list()、長度len()、最大值 max()、最小值 min()、加總sum()、數值範圍 range()"
   ]
  },
  {
   "cell_type": "code",
   "execution_count": 20,
   "metadata": {},
   "outputs": [
    {
     "name": "stdout",
     "output_type": "stream",
     "text": [
      "5\n",
      "9\n",
      "1\n",
      "25\n"
     ]
    }
   ],
   "source": [
    "L = [1,3,5,7,9]\n",
    "print( len(L) )   # 傳回list的長度(元素個數)\n",
    "print( max(L) )   # 傳回list()中的最大值\n",
    "print( min(L) )   # 傳回list()中的最小值\n",
    "print( sum(L) )   # 傳回list()的數值總和"
   ]
  },
  {
   "cell_type": "code",
   "execution_count": 21,
   "metadata": {},
   "outputs": [
    {
     "name": "stdout",
     "output_type": "stream",
     "text": [
      "[1, 3, 5, 7, 9]\n",
      "7\n",
      "7\n",
      "[1, 3, 5, 7]\n",
      "[1, 5]\n"
     ]
    }
   ],
   "source": [
    "# 提取列表中的元素，注意!!!第一個位是 0 號位\n",
    "print( L )\n",
    "print( L[3] )\n",
    "print( L[-2] )\n",
    "print( L[0:4] )\n",
    "print( L[0:4:2] )"
   ]
  },
  {
   "cell_type": "code",
   "execution_count": 14,
   "metadata": {},
   "outputs": [
    {
     "name": "stdout",
     "output_type": "stream",
     "text": [
      "[9, 7, 5, 3, 1]\n"
     ]
    }
   ],
   "source": [
    "# 將 list 中元素的順序調轉\n",
    "print( L[::-1] )"
   ]
  },
  {
   "cell_type": "code",
   "execution_count": 15,
   "metadata": {},
   "outputs": [
    {
     "name": "stdout",
     "output_type": "stream",
     "text": [
      "[1, 2, 3, 4, 5, 6, 7, 8, 9, 10, 11, 12, 13, 14, 15, 16, 17, 18, 19, 20, 21, 22, 23, 24, 25, 26, 27, 28, 29, 30, 31, 32, 33, 34, 35, 36, 37, 38, 39, 40, 41, 42, 43, 44, 45, 46, 47, 48, 49, 50, 51, 52, 53, 54, 55, 56, 57, 58, 59, 60, 61, 62, 63, 64, 65, 66, 67, 68, 69, 70, 71, 72, 73, 74, 75, 76, 77, 78, 79, 80, 81, 82, 83, 84, 85, 86, 87, 88, 89, 90, 91, 92, 93, 94, 95, 96, 97, 98, 99, 100]\n"
     ]
    }
   ],
   "source": [
    "# 可通過 range() 函數生成數列\n",
    "L = list(range(1,101))\n",
    "print(L)"
   ]
  },
  {
   "cell_type": "code",
   "execution_count": 22,
   "metadata": {
    "scrolled": false
   },
   "outputs": [
    {
     "name": "stdout",
     "output_type": "stream",
     "text": [
      "[1, 3, 5, 7, 9, 10, 11]\n",
      "[1, 3, 5, 7, 9, 10]\n",
      "[1, 999, 3, 5, 7, 9, 10]\n",
      "[1, 3, 5, 7, 9, 10]\n"
     ]
    }
   ],
   "source": [
    "L = [1,3,5,7,9]\n",
    "\n",
    "# 列表常用參數：\n",
    "# L.append() 加入一個元素到list的最後一個位\n",
    "L.append(10)\n",
    "L.append(11)\n",
    "print(L)\n",
    "\n",
    "# L.pop() 刪除最後一個元素\n",
    "L.pop()\n",
    "print(L)\n",
    "\n",
    "# L.insert() 插入元素到指定位置(index)上\n",
    "L.insert(1,999)\n",
    "print(L)\n",
    "\n",
    "# del 刪除list中特定位置(index)的元素\n",
    "del L[1]\n",
    "print(L)\n"
   ]
  },
  {
   "cell_type": "code",
   "execution_count": 9,
   "metadata": {
    "scrolled": true
   },
   "outputs": [
    {
     "name": "stdout",
     "output_type": "stream",
     "text": [
      "h\n",
      "d\n",
      "hello\n",
      "hlo\n",
      "dlrow_olleh\n"
     ]
    }
   ],
   "source": [
    "# 字符串string 與 列表list 有類似的性質\n",
    "text = \"hello_world\"\n",
    "print(text[0])\n",
    "print(text[-1])\n",
    "print(text[0:5])\n",
    "print(text[0:5:2])\n",
    "print(text[::-1])"
   ]
  },
  {
   "cell_type": "markdown",
   "metadata": {},
   "source": [
    "## 列表list() 與 輸入input() 的常用組合語法：一行輸入多個數值 / 字符串"
   ]
  },
  {
   "cell_type": "code",
   "execution_count": 26,
   "metadata": {
    "scrolled": true
   },
   "outputs": [
    {
     "name": "stdout",
     "output_type": "stream",
     "text": [
      "1 2 3 4 5 6\n",
      "['1', '2', '3', '4', '5', '6']\n",
      "1,2,3,4,5,6\n",
      "[1, 2, 3, 4, 5, 6]\n"
     ]
    }
   ],
   "source": [
    "# 一行輸入多個「字符串」，之間用「空白鍵」分隔，用 列表 載裝資料\n",
    "a_list = [str(num) for num in input().split()]\n",
    "print(a_list)\n",
    "\n",
    "# 一行輸入多個「數值」，之間用「逗號」分隔，用 列表 載裝資料\n",
    "b_list = [int(num) for num in input().split(',')]\n",
    "print(b_list)\n"
   ]
  },
  {
   "cell_type": "markdown",
   "metadata": {},
   "source": [
    "## 練習：OJ a064 倒帶人生\n",
    "#### 輸入一行文字，程序將會以相反順序的方式輸出該行文字，并在最後加上「~」符號\n",
    "#### http://zero1.puiching.edu.mo/ShowProblem?problemid=a064"
   ]
  },
  {
   "cell_type": "code",
   "execution_count": 28,
   "metadata": {},
   "outputs": [
    {
     "name": "stdout",
     "output_type": "stream",
     "text": [
      "吃飯了嗎\n",
      "嗎了飯吃~\n"
     ]
    }
   ],
   "source": [
    "# 以下是範例輸入與輸出，請勿執行此區塊!!!"
   ]
  },
  {
   "cell_type": "code",
   "execution_count": 29,
   "metadata": {},
   "outputs": [],
   "source": [
    "# start programming\n",
    "\n",
    "\n",
    "\n",
    "\n",
    "\n",
    "# end programming"
   ]
  },
  {
   "cell_type": "markdown",
   "metadata": {},
   "source": [
    "## 練習：OJ a065 重點字\n",
    "#### 找出「重點字」，我們將其定義為句子中的第三和第六個字。\n",
    "#### http://zero1.puiching.edu.mo/ShowProblem?problemid=a065"
   ]
  },
  {
   "cell_type": "code",
   "execution_count": 2,
   "metadata": {},
   "outputs": [],
   "source": [
    "# start programming\n",
    "\n",
    "\n",
    "\n",
    "\n",
    "\n",
    "\n",
    "# end programming"
   ]
  },
  {
   "cell_type": "markdown",
   "metadata": {},
   "source": [
    "## 例題：找出最大值、最小值\n",
    "#### 輸入：四個整數數值a,b,c,d\n",
    "#### 輸出：最大值和最小值"
   ]
  },
  {
   "cell_type": "code",
   "execution_count": 31,
   "metadata": {},
   "outputs": [
    {
     "name": "stdout",
     "output_type": "stream",
     "text": [
      "1\n",
      "2\n",
      "3\n",
      "4\n",
      "4\n",
      "1\n"
     ]
    }
   ],
   "source": [
    "# start programming\n",
    "\n",
    "a = int(input())\n",
    "b = int(input())\n",
    "c = int(input())\n",
    "d = int(input())\n",
    "\n",
    "Max = max(a,b,c,d)\n",
    "Min = min(a,b,c,d)\n",
    "\n",
    "print(Max)\n",
    "print(Min)\n",
    "\n",
    "# end programming"
   ]
  },
  {
   "cell_type": "markdown",
   "metadata": {},
   "source": [
    "## 練習：OJ a066 最值之差\n",
    "#### 輸入：一行輸入四個整數數值，中間以「,」分隔\n",
    "#### 輸出：「最大值,最小值,最大值和最小值的差」\n",
    "#### http://zero1.puiching.edu.mo/ShowProblem?problemid=a066"
   ]
  },
  {
   "cell_type": "code",
   "execution_count": 3,
   "metadata": {},
   "outputs": [],
   "source": [
    "# start programming\n",
    "\n",
    "\n",
    "\n",
    "\n",
    "\n",
    "\n",
    "# end programming"
   ]
  },
  {
   "cell_type": "markdown",
   "metadata": {},
   "source": [
    "## 知識點：比較運算符(==、!=、>、<、>=、<=)、邏輯運算符(and、or、not)"
   ]
  },
  {
   "cell_type": "code",
   "execution_count": 36,
   "metadata": {
    "scrolled": false
   },
   "outputs": [
    {
     "name": "stdout",
     "output_type": "stream",
     "text": [
      "a = b： False\n",
      "a != b： True\n",
      "a > b： False\n",
      "a < b： True\n",
      "a >= b：False\n",
      "a <= b：True\n",
      "-----------------------------------------------\n",
      "a = b\ta!=b\ta > b\ta < b\ta >= b\ta <= b\n",
      "False\tTrue\tFalse\tTrue\tFalse\tTrue\t\n"
     ]
    }
   ],
   "source": [
    "a = 5 ; b = 10\n",
    "print('a = b： ' + str(a == b))\n",
    "print('a != b： ' + str(a != b))\n",
    "print('a > b： ' + str(a > b))\n",
    "print('a < b： ' + str(a < b))\n",
    "print('a >= b：' + str(a >= b))\n",
    "print('a <= b：' + str(a <= b))\n",
    "print('-----------------------------------------------')\n",
    "print('a = b\\ta!=b\\ta > b\\ta < b\\ta >= b\\ta <= b\\n' + str(a == b) + '\\t' + str(a != b) + '\\t' + str(a > b) + '\\t' + str(a < b) + '\\t' + str(a >= b) + '\\t' + str(a <= b) + '\\t')"
   ]
  },
  {
   "cell_type": "code",
   "execution_count": 13,
   "metadata": {},
   "outputs": [
    {
     "name": "stdout",
     "output_type": "stream",
     "text": [
      "True\n"
     ]
    }
   ],
   "source": [
    "print( 1 == 1 )"
   ]
  },
  {
   "cell_type": "code",
   "execution_count": 40,
   "metadata": {},
   "outputs": [
    {
     "name": "stdout",
     "output_type": "stream",
     "text": [
      "False\n"
     ]
    }
   ],
   "source": [
    "print( 1 == '1' )"
   ]
  },
  {
   "cell_type": "code",
   "execution_count": 41,
   "metadata": {},
   "outputs": [
    {
     "name": "stdout",
     "output_type": "stream",
     "text": [
      "True\n"
     ]
    }
   ],
   "source": [
    "print( 1 != '1' )"
   ]
  },
  {
   "cell_type": "code",
   "execution_count": 42,
   "metadata": {},
   "outputs": [
    {
     "name": "stdout",
     "output_type": "stream",
     "text": [
      "False\n"
     ]
    }
   ],
   "source": [
    "# and 使用說明\n",
    "a = 5\n",
    "b = 10\n",
    "print( a==b and a>b )"
   ]
  },
  {
   "cell_type": "code",
   "execution_count": 44,
   "metadata": {},
   "outputs": [
    {
     "name": "stdout",
     "output_type": "stream",
     "text": [
      "True\n"
     ]
    }
   ],
   "source": [
    "# or 使用說明\n",
    "a = 5\n",
    "b = 10\n",
    "print( a!=b or a>b )"
   ]
  },
  {
   "cell_type": "code",
   "execution_count": 45,
   "metadata": {},
   "outputs": [
    {
     "name": "stdout",
     "output_type": "stream",
     "text": [
      "False\n"
     ]
    }
   ],
   "source": [
    "# not 使用說明\n",
    "print( not(a!=b or a>b) )"
   ]
  }
 ],
 "metadata": {
  "kernelspec": {
   "display_name": "Python 3 (ipykernel)",
   "language": "python",
   "name": "python3"
  },
  "language_info": {
   "codemirror_mode": {
    "name": "ipython",
    "version": 3
   },
   "file_extension": ".py",
   "mimetype": "text/x-python",
   "name": "python",
   "nbconvert_exporter": "python",
   "pygments_lexer": "ipython3",
   "version": "3.9.7"
  }
 },
 "nbformat": 4,
 "nbformat_minor": 4
}
