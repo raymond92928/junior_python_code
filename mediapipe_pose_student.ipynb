{
 "cells": [
  {
   "cell_type": "markdown",
   "id": "9e3b1b83",
   "metadata": {},
   "source": [
    "# install mediapipe (run it when you are not install mediapipe yet)\n",
    "## [mediapipe pose detection](https://developers.google.com/mediapipe/solutions/vision/pose_landmarker/)"
   ]
  },
  {
   "cell_type": "code",
   "execution_count": null,
   "id": "b3e8aa0d",
   "metadata": {},
   "outputs": [],
   "source": [
    "!pip install mediapipe"
   ]
  },
  {
   "cell_type": "markdown",
   "id": "ee5a4f5c",
   "metadata": {},
   "source": [
    "# Open the camera using opencv2"
   ]
  },
  {
   "cell_type": "code",
   "execution_count": null,
   "id": "050bf74a",
   "metadata": {},
   "outputs": [],
   "source": [
    "import cv2\n",
    "\n",
    "cap = cv2.VideoCapture(0)\n",
    "cv2.namedWindow(\"Mediapipe\", cv2.WINDOW_AUTOSIZE)\n",
    "\n",
    "while cap.isOpened():\n",
    "    ret, frame = cap.read()\n",
    "    if cv2.waitKey(10) == ord(\"q\"):\n",
    "        break\n",
    "    frame = cv2.flip(frame, 1)\n",
    "    image = cv2.cvtColor(frame, cv2.COLOR_BGR2RGB)\n",
    "    \n",
    "    cv2.imshow(\"Mediapipe\", frame)\n",
    "    \n",
    "cap.release()\n",
    "cv2.destroyAllWindows()"
   ]
  },
  {
   "cell_type": "markdown",
   "id": "94dc3611",
   "metadata": {},
   "source": [
    "# Detect landmark"
   ]
  },
  {
   "cell_type": "code",
   "execution_count": null,
   "id": "4b21fa1d",
   "metadata": {},
   "outputs": [],
   "source": [
    "import mediapipe as mp\n",
    "import cv2\n",
    "\n",
    "mp_drawing = mp.solutions.drawing_utils\n",
    "mp_pose = mp.solutions.pose\n",
    "\n",
    "image_path = 'pose4.jpg'\n",
    "img = cv2.imread(image_path, 1)\n",
    "frame = cv2.resize(img, (800, 600))\n",
    "with mp_pose.Pose(min_detection_confidence = 0.5, min_tracking_confidence = 0.5) as pose:\n",
    "    # ret, frame = cap.read()\n",
    "    \n",
    "    frame = cv2.flip(frame, 1)\n",
    "    image = cv2.cvtColor(frame, cv2.COLOR_BGR2RGB)\n",
    "\n",
    "    results = pose.process(image)\n",
    "\n",
    "    try:\n",
    "        landmarks = results.pose_landmarks.landmark\n",
    "        print(landmarks)\n",
    "    except:\n",
    "        pass\n",
    "\n",
    "    mp_drawing.draw_landmarks(frame, results.pose_landmarks, mp_pose.POSE_CONNECTIONS,\n",
    "                             mp_drawing.DrawingSpec(color = (245, 117, 234), thickness = 2, circle_radius = 2),\n",
    "                             mp_drawing.DrawingSpec(color = (23, 23, 100), thickness= 2, circle_radius = 4))\n",
    "    cv2.imshow(\"Mediapipe\", frame)\n",
    "    cv2.waitKey(0)\n",
    "    cv2.destroyAllWindows()"
   ]
  },
  {
   "cell_type": "code",
   "execution_count": null,
   "id": "93d4a3ab",
   "metadata": {},
   "outputs": [],
   "source": [
    "len(landmarks)"
   ]
  },
  {
   "cell_type": "code",
   "execution_count": null,
   "id": "ebea1dd4",
   "metadata": {},
   "outputs": [],
   "source": [
    "landmarks[mp_pose.PoseLandmark.LEFT_EYE.value]"
   ]
  },
  {
   "cell_type": "code",
   "execution_count": null,
   "id": "7c89f538",
   "metadata": {},
   "outputs": [],
   "source": [
    "landmarks[2]"
   ]
  },
  {
   "cell_type": "markdown",
   "id": "7eca65bb",
   "metadata": {},
   "source": [
    "# Detect landmark on camera"
   ]
  },
  {
   "cell_type": "code",
   "execution_count": null,
   "id": "e5bb833c",
   "metadata": {},
   "outputs": [],
   "source": [
    "import mediapipe as mp\n",
    "import cv2\n",
    "mp_drawing = mp.solutions.drawing_utils\n",
    "mp_pose = mp.solutions.pose\n",
    "\n",
    "cap = cv2.VideoCapture(0)\n",
    "cv2.namedWindow(\"Mediapipe\", cv2.WINDOW_AUTOSIZE)\n",
    "\n",
    "with mp_pose.Pose(min_detection_confidence = 0.5, min_tracking_confidence = 0.5) as pose:\n",
    "    while cap.isOpened():\n",
    "        ret, frame = cap.read()\n",
    "        if cv2.waitKey(10) == ord(\"q\"):\n",
    "            break\n",
    "        frame = cv2.flip(frame, 1)\n",
    "        image = cv2.cvtColor(frame, cv2.COLOR_BGR2RGB)\n",
    "        \n",
    "        results = pose.process(image)\n",
    "        \n",
    "        try:\n",
    "            landmarks = results.pose_landmarks.landmark\n",
    "            print(landmarks)\n",
    "        except:\n",
    "            pass\n",
    "        \n",
    "        mp_drawing.draw_landmarks(frame, results.pose_landmarks, mp_pose.POSE_CONNECTIONS,\n",
    "                                 mp_drawing.DrawingSpec(color = (245, 117, 234), thickness = 2, circle_radius = 2),\n",
    "                                 mp_drawing.DrawingSpec(color = (23, 23, 100), thickness= 2, circle_radius = 4))\n",
    "        cv2.imshow(\"Mediapipe\", frame)\n",
    "\n",
    "    cap.release()\n",
    "    cv2.destroyAllWindows()"
   ]
  }
 ],
 "metadata": {
  "kernelspec": {
   "display_name": "Python 3 (ipykernel)",
   "language": "python",
   "name": "python3"
  },
  "language_info": {
   "codemirror_mode": {
    "name": "ipython",
    "version": 3
   },
   "file_extension": ".py",
   "mimetype": "text/x-python",
   "name": "python",
   "nbconvert_exporter": "python",
   "pygments_lexer": "ipython3",
   "version": "3.11.5"
  }
 },
 "nbformat": 4,
 "nbformat_minor": 5
}
